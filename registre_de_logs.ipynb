{
    "cells": [
        {
            "cell_type": "markdown",
            "source": [
                "# S05 T01: Transformació Registre Log amb Regular expressions\r\n",
                "\r\n",
                "**Descripció**\r\n",
                "\r\n",
                "L'anàlisi de registres és una funció important per al control i l'alerta, el compliment de les polítiques de seguretat, l'auditoria i el compliment normatiu, la resposta a incidents de seguretat i fins i tot les investigacions forenses. En analitzar les dades de registre, les empreses poden identificar més fàcilment les possibles amenaces i altres problemes, trobar la causa arrel i iniciar una resposta ràpida per mitigar els riscos.\r\n",
                "\r\n",
                "**Nivell 1**\r\n",
                "\r\n",
                "L'analista ha d'assegurar-se que els registres consisteixen en una gamma completa de missatges i s'interpreten segons el context. Els elements de registre han d'estandaritzar-se, utilitzant els mateixos termes o terminologia, per evitar confusions i proporcionar cohesió.\r\n",
                "\r\n",
                "Com Científic de Dades se t'ha proporcionat accés als registres-Logs on queda registrada l'activitat de totes les visites a realitzades a la pàgina web de l'agència de viatges \"akumenius.com\".\r\n",
                "\r\n",
                "- Exercici 1\r\n",
                "\r\n",
                "Estandaritza, identifica i enumera cada un dels atributs / variables de l'estructura de l'arxiu \"Web_access_log-akumenius.com\" que trobaràs al repositori de GitHub \"Data-sources\"."
            ],
            "metadata": {}
        },
        {
            "cell_type": "code",
            "execution_count": 1,
            "source": [
                "import pandas as pd\r\n",
                "import numpy as np\r\n",
                "# Regular expression operations Library\r\n",
                "import re # https://docs.python.org/3/library/re.html"
            ],
            "outputs": [],
            "metadata": {}
        },
        {
            "cell_type": "code",
            "execution_count": 2,
            "source": [
                "# Set the maximum width in characters of a column in the repr of a pandas data structure.\r\n",
                "# When the column overflows, a ”...” placeholder is embedded in the output. [default: 50] [currently: 50]\r\n",
                "# 'display.max_colwidth': int\r\n",
                "pd.set_option('display.max_colwidth', None)\r\n",
                "# Opening the data file and create a new Dataframe \r\n",
                "data_table = pd.read_csv('Web_access_log-akumenius.com.txt', names = [\"Single_Data_Column\"])\r\n",
                "# Displaying rows 15 through 25\r\n",
                "data_table.loc[15:25,:]"
            ],
            "outputs": [
                {
                    "output_type": "execute_result",
                    "data": {
                        "text/plain": [
                            "                                                                                                                                                                                                                                                              Single_Data_Column\n",
                            "15                                                                                                                                               localhost 127.0.0.1 - - [23/Feb/2014:03:10:31 +0100] \"OPTIONS * HTTP/1.0\" 200 - \"-\" \"Apache (internal dummy connection)\" VLOG=-\n",
                            "16                                                                                                                                               localhost 127.0.0.1 - - [23/Feb/2014:03:10:31 +0100] \"OPTIONS * HTTP/1.0\" 200 - \"-\" \"Apache (internal dummy connection)\" VLOG=-\n",
                            "17                                                                                                                                               localhost 127.0.0.1 - - [23/Feb/2014:03:10:31 +0100] \"OPTIONS * HTTP/1.0\" 200 - \"-\" \"Apache (internal dummy connection)\" VLOG=-\n",
                            "18                                                                                                                                               localhost 127.0.0.1 - - [23/Feb/2014:03:10:31 +0100] \"OPTIONS * HTTP/1.0\" 200 - \"-\" \"Apache (internal dummy connection)\" VLOG=-\n",
                            "19                                                                                                                                               localhost 127.0.0.1 - - [23/Feb/2014:03:10:31 +0100] \"OPTIONS * HTTP/1.0\" 200 - \"-\" \"Apache (internal dummy connection)\" VLOG=-\n",
                            "20                                                                                                                                               localhost 127.0.0.1 - - [23/Feb/2014:03:10:31 +0100] \"OPTIONS * HTTP/1.0\" 200 - \"-\" \"Apache (internal dummy connection)\" VLOG=-\n",
                            "21                                                                                                                                               localhost 127.0.0.1 - - [23/Feb/2014:03:10:31 +0100] \"OPTIONS * HTTP/1.0\" 200 - \"-\" \"Apache (internal dummy connection)\" VLOG=-\n",
                            "22           www.akumenius.com 66.249.76.216 - - [23/Feb/2014:03:10:31 +0100] \"GET /hoteles-baratos/ofertas-hotel-Club-&-Hotel-Letoonia--en-Fethiye-8460b-destinos.html HTTP/1.1\" 404 3100 \"-\" \"Mozilla/5.0 (compatible; Googlebot/2.1; +http://www.google.com/bot.html)\" VLOG=-\n",
                            "23                www.akumenius.com 66.249.76.216 - - [23/Feb/2014:03:10:33 +0100] \"GET /hoteles-baratos/ofertas-hotel-Metropolis-Hotel-en-Kaunas-210244b-destinos.html HTTP/1.1\" 404 3100 \"-\" \"Mozilla/5.0 (compatible; Googlebot/2.1; +http://www.google.com/bot.html)\" VLOG=-\n",
                            "24      www.akumenius.com 66.249.76.216 - - [23/Feb/2014:03:10:35 +0100] \"GET /hoteles-baratos/ofertas-hotel-Faena-Hotel-Buenos-Aires-en-Downtown-129723b-destinos.html HTTP/1.1\" 404 3100 \"-\" \"Mozilla/5.0 (compatible; Googlebot/2.1; +http://www.google.com/bot.html)\" VLOG=-\n",
                            "25  www.akumenius.com 66.249.76.216 - - [23/Feb/2014:03:10:38 +0100] \"GET /hoteles-baratos/ofertas-hotel-Kensington-Townhouse-London-en-Kensington-54356b-destinos.html HTTP/1.1\" 404 3100 \"-\" \"Mozilla/5.0 (compatible; Googlebot/2.1; +http://www.google.com/bot.html)\" VLOG=-"
                        ],
                        "text/html": "<div>\n<style scoped>\n    .dataframe tbody tr th:only-of-type {\n        vertical-align: middle;\n    }\n\n    .dataframe tbody tr th {\n        vertical-align: top;\n    }\n\n    .dataframe thead th {\n        text-align: right;\n    }\n</style>\n<table border=\"1\" class=\"dataframe\">\n  <thead>\n    <tr style=\"text-align: right;\">\n      <th></th>\n      <th>Single_Data_Column</th>\n    </tr>\n  </thead>\n  <tbody>\n    <tr>\n      <th>15</th>\n      <td>localhost 127.0.0.1 - - [23/Feb/2014:03:10:31 +0100] \"OPTIONS * HTTP/1.0\" 200 - \"-\" \"Apache (internal dummy connection)\" VLOG=-</td>\n    </tr>\n    <tr>\n      <th>16</th>\n      <td>localhost 127.0.0.1 - - [23/Feb/2014:03:10:31 +0100] \"OPTIONS * HTTP/1.0\" 200 - \"-\" \"Apache (internal dummy connection)\" VLOG=-</td>\n    </tr>\n    <tr>\n      <th>17</th>\n      <td>localhost 127.0.0.1 - - [23/Feb/2014:03:10:31 +0100] \"OPTIONS * HTTP/1.0\" 200 - \"-\" \"Apache (internal dummy connection)\" VLOG=-</td>\n    </tr>\n    <tr>\n      <th>18</th>\n      <td>localhost 127.0.0.1 - - [23/Feb/2014:03:10:31 +0100] \"OPTIONS * HTTP/1.0\" 200 - \"-\" \"Apache (internal dummy connection)\" VLOG=-</td>\n    </tr>\n    <tr>\n      <th>19</th>\n      <td>localhost 127.0.0.1 - - [23/Feb/2014:03:10:31 +0100] \"OPTIONS * HTTP/1.0\" 200 - \"-\" \"Apache (internal dummy connection)\" VLOG=-</td>\n    </tr>\n    <tr>\n      <th>20</th>\n      <td>localhost 127.0.0.1 - - [23/Feb/2014:03:10:31 +0100] \"OPTIONS * HTTP/1.0\" 200 - \"-\" \"Apache (internal dummy connection)\" VLOG=-</td>\n    </tr>\n    <tr>\n      <th>21</th>\n      <td>localhost 127.0.0.1 - - [23/Feb/2014:03:10:31 +0100] \"OPTIONS * HTTP/1.0\" 200 - \"-\" \"Apache (internal dummy connection)\" VLOG=-</td>\n    </tr>\n    <tr>\n      <th>22</th>\n      <td>www.akumenius.com 66.249.76.216 - - [23/Feb/2014:03:10:31 +0100] \"GET /hoteles-baratos/ofertas-hotel-Club-&amp;-Hotel-Letoonia--en-Fethiye-8460b-destinos.html HTTP/1.1\" 404 3100 \"-\" \"Mozilla/5.0 (compatible; Googlebot/2.1; +http://www.google.com/bot.html)\" VLOG=-</td>\n    </tr>\n    <tr>\n      <th>23</th>\n      <td>www.akumenius.com 66.249.76.216 - - [23/Feb/2014:03:10:33 +0100] \"GET /hoteles-baratos/ofertas-hotel-Metropolis-Hotel-en-Kaunas-210244b-destinos.html HTTP/1.1\" 404 3100 \"-\" \"Mozilla/5.0 (compatible; Googlebot/2.1; +http://www.google.com/bot.html)\" VLOG=-</td>\n    </tr>\n    <tr>\n      <th>24</th>\n      <td>www.akumenius.com 66.249.76.216 - - [23/Feb/2014:03:10:35 +0100] \"GET /hoteles-baratos/ofertas-hotel-Faena-Hotel-Buenos-Aires-en-Downtown-129723b-destinos.html HTTP/1.1\" 404 3100 \"-\" \"Mozilla/5.0 (compatible; Googlebot/2.1; +http://www.google.com/bot.html)\" VLOG=-</td>\n    </tr>\n    <tr>\n      <th>25</th>\n      <td>www.akumenius.com 66.249.76.216 - - [23/Feb/2014:03:10:38 +0100] \"GET /hoteles-baratos/ofertas-hotel-Kensington-Townhouse-London-en-Kensington-54356b-destinos.html HTTP/1.1\" 404 3100 \"-\" \"Mozilla/5.0 (compatible; Googlebot/2.1; +http://www.google.com/bot.html)\" VLOG=-</td>\n    </tr>\n  </tbody>\n</table>\n</div>"
                    },
                    "metadata": {},
                    "execution_count": 2
                }
            ],
            "metadata": {}
        },
        {
            "cell_type": "code",
            "execution_count": 3,
            "source": [
                "# In order to obtain each of the data columns we will search for the double quotation marks that separate them using a search pattern \r\n",
                "pattern=(\"[^\\\"]*\")\r\n",
                "# We store each register in a column starting from the single data column\r\n",
                "data_cols = data_table[\"Single_Data_Column\"].apply(lambda column: re.findall(pattern, column))\r\n",
                "# Display of data from row 15 to row 25\r\n",
                "data_cols.loc[15:25]"
            ],
            "outputs": [
                {
                    "output_type": "execute_result",
                    "data": {
                        "text/plain": [
                            "15                                                                                                                                                 [localhost 127.0.0.1 - - [23/Feb/2014:03:10:31 +0100] , , OPTIONS * HTTP/1.0, ,  200 - , , -, ,  , , Apache (internal dummy connection), ,  VLOG=-, ]\n",
                            "16                                                                                                                                                 [localhost 127.0.0.1 - - [23/Feb/2014:03:10:31 +0100] , , OPTIONS * HTTP/1.0, ,  200 - , , -, ,  , , Apache (internal dummy connection), ,  VLOG=-, ]\n",
                            "17                                                                                                                                                 [localhost 127.0.0.1 - - [23/Feb/2014:03:10:31 +0100] , , OPTIONS * HTTP/1.0, ,  200 - , , -, ,  , , Apache (internal dummy connection), ,  VLOG=-, ]\n",
                            "18                                                                                                                                                 [localhost 127.0.0.1 - - [23/Feb/2014:03:10:31 +0100] , , OPTIONS * HTTP/1.0, ,  200 - , , -, ,  , , Apache (internal dummy connection), ,  VLOG=-, ]\n",
                            "19                                                                                                                                                 [localhost 127.0.0.1 - - [23/Feb/2014:03:10:31 +0100] , , OPTIONS * HTTP/1.0, ,  200 - , , -, ,  , , Apache (internal dummy connection), ,  VLOG=-, ]\n",
                            "20                                                                                                                                                 [localhost 127.0.0.1 - - [23/Feb/2014:03:10:31 +0100] , , OPTIONS * HTTP/1.0, ,  200 - , , -, ,  , , Apache (internal dummy connection), ,  VLOG=-, ]\n",
                            "21                                                                                                                                                 [localhost 127.0.0.1 - - [23/Feb/2014:03:10:31 +0100] , , OPTIONS * HTTP/1.0, ,  200 - , , -, ,  , , Apache (internal dummy connection), ,  VLOG=-, ]\n",
                            "22             [www.akumenius.com 66.249.76.216 - - [23/Feb/2014:03:10:31 +0100] , , GET /hoteles-baratos/ofertas-hotel-Club-&-Hotel-Letoonia--en-Fethiye-8460b-destinos.html HTTP/1.1, ,  404 3100 , , -, ,  , , Mozilla/5.0 (compatible; Googlebot/2.1; +http://www.google.com/bot.html), ,  VLOG=-, ]\n",
                            "23                  [www.akumenius.com 66.249.76.216 - - [23/Feb/2014:03:10:33 +0100] , , GET /hoteles-baratos/ofertas-hotel-Metropolis-Hotel-en-Kaunas-210244b-destinos.html HTTP/1.1, ,  404 3100 , , -, ,  , , Mozilla/5.0 (compatible; Googlebot/2.1; +http://www.google.com/bot.html), ,  VLOG=-, ]\n",
                            "24        [www.akumenius.com 66.249.76.216 - - [23/Feb/2014:03:10:35 +0100] , , GET /hoteles-baratos/ofertas-hotel-Faena-Hotel-Buenos-Aires-en-Downtown-129723b-destinos.html HTTP/1.1, ,  404 3100 , , -, ,  , , Mozilla/5.0 (compatible; Googlebot/2.1; +http://www.google.com/bot.html), ,  VLOG=-, ]\n",
                            "25    [www.akumenius.com 66.249.76.216 - - [23/Feb/2014:03:10:38 +0100] , , GET /hoteles-baratos/ofertas-hotel-Kensington-Townhouse-London-en-Kensington-54356b-destinos.html HTTP/1.1, ,  404 3100 , , -, ,  , , Mozilla/5.0 (compatible; Googlebot/2.1; +http://www.google.com/bot.html), ,  VLOG=-, ]\n",
                            "Name: Single_Data_Column, dtype: object"
                        ]
                    },
                    "metadata": {},
                    "execution_count": 3
                }
            ],
            "metadata": {}
        },
        {
            "cell_type": "code",
            "execution_count": 4,
            "source": [
                "# Ae crea \r\n",
                "# Creació d'una nova columna en 'taula', de nom 'web', que enmagatzemarà la web visitada\r\n",
                "# Aquesta informació está dins la primera 'columna' de 'columnes'\r\n",
                "# i la obté mitjançat la separació del text que es troba abans del primer esapi en blanc\r\n",
                "data_table[\"Web_Site\"] = data_cols.map(lambda column: column[0].split(' ')[0])\r\n",
                "# Display of data from row 15 to row 25\r\n",
                "data_table.loc[15:25,:]"
            ],
            "outputs": [
                {
                    "output_type": "execute_result",
                    "data": {
                        "text/plain": [
                            "                                                                                                                                                                                                                                                              Single_Data_Column  \\\n",
                            "15                                                                                                                                               localhost 127.0.0.1 - - [23/Feb/2014:03:10:31 +0100] \"OPTIONS * HTTP/1.0\" 200 - \"-\" \"Apache (internal dummy connection)\" VLOG=-   \n",
                            "16                                                                                                                                               localhost 127.0.0.1 - - [23/Feb/2014:03:10:31 +0100] \"OPTIONS * HTTP/1.0\" 200 - \"-\" \"Apache (internal dummy connection)\" VLOG=-   \n",
                            "17                                                                                                                                               localhost 127.0.0.1 - - [23/Feb/2014:03:10:31 +0100] \"OPTIONS * HTTP/1.0\" 200 - \"-\" \"Apache (internal dummy connection)\" VLOG=-   \n",
                            "18                                                                                                                                               localhost 127.0.0.1 - - [23/Feb/2014:03:10:31 +0100] \"OPTIONS * HTTP/1.0\" 200 - \"-\" \"Apache (internal dummy connection)\" VLOG=-   \n",
                            "19                                                                                                                                               localhost 127.0.0.1 - - [23/Feb/2014:03:10:31 +0100] \"OPTIONS * HTTP/1.0\" 200 - \"-\" \"Apache (internal dummy connection)\" VLOG=-   \n",
                            "20                                                                                                                                               localhost 127.0.0.1 - - [23/Feb/2014:03:10:31 +0100] \"OPTIONS * HTTP/1.0\" 200 - \"-\" \"Apache (internal dummy connection)\" VLOG=-   \n",
                            "21                                                                                                                                               localhost 127.0.0.1 - - [23/Feb/2014:03:10:31 +0100] \"OPTIONS * HTTP/1.0\" 200 - \"-\" \"Apache (internal dummy connection)\" VLOG=-   \n",
                            "22           www.akumenius.com 66.249.76.216 - - [23/Feb/2014:03:10:31 +0100] \"GET /hoteles-baratos/ofertas-hotel-Club-&-Hotel-Letoonia--en-Fethiye-8460b-destinos.html HTTP/1.1\" 404 3100 \"-\" \"Mozilla/5.0 (compatible; Googlebot/2.1; +http://www.google.com/bot.html)\" VLOG=-   \n",
                            "23                www.akumenius.com 66.249.76.216 - - [23/Feb/2014:03:10:33 +0100] \"GET /hoteles-baratos/ofertas-hotel-Metropolis-Hotel-en-Kaunas-210244b-destinos.html HTTP/1.1\" 404 3100 \"-\" \"Mozilla/5.0 (compatible; Googlebot/2.1; +http://www.google.com/bot.html)\" VLOG=-   \n",
                            "24      www.akumenius.com 66.249.76.216 - - [23/Feb/2014:03:10:35 +0100] \"GET /hoteles-baratos/ofertas-hotel-Faena-Hotel-Buenos-Aires-en-Downtown-129723b-destinos.html HTTP/1.1\" 404 3100 \"-\" \"Mozilla/5.0 (compatible; Googlebot/2.1; +http://www.google.com/bot.html)\" VLOG=-   \n",
                            "25  www.akumenius.com 66.249.76.216 - - [23/Feb/2014:03:10:38 +0100] \"GET /hoteles-baratos/ofertas-hotel-Kensington-Townhouse-London-en-Kensington-54356b-destinos.html HTTP/1.1\" 404 3100 \"-\" \"Mozilla/5.0 (compatible; Googlebot/2.1; +http://www.google.com/bot.html)\" VLOG=-   \n",
                            "\n",
                            "             Web_Site  \n",
                            "15          localhost  \n",
                            "16          localhost  \n",
                            "17          localhost  \n",
                            "18          localhost  \n",
                            "19          localhost  \n",
                            "20          localhost  \n",
                            "21          localhost  \n",
                            "22  www.akumenius.com  \n",
                            "23  www.akumenius.com  \n",
                            "24  www.akumenius.com  \n",
                            "25  www.akumenius.com  "
                        ],
                        "text/html": "<div>\n<style scoped>\n    .dataframe tbody tr th:only-of-type {\n        vertical-align: middle;\n    }\n\n    .dataframe tbody tr th {\n        vertical-align: top;\n    }\n\n    .dataframe thead th {\n        text-align: right;\n    }\n</style>\n<table border=\"1\" class=\"dataframe\">\n  <thead>\n    <tr style=\"text-align: right;\">\n      <th></th>\n      <th>Single_Data_Column</th>\n      <th>Web_Site</th>\n    </tr>\n  </thead>\n  <tbody>\n    <tr>\n      <th>15</th>\n      <td>localhost 127.0.0.1 - - [23/Feb/2014:03:10:31 +0100] \"OPTIONS * HTTP/1.0\" 200 - \"-\" \"Apache (internal dummy connection)\" VLOG=-</td>\n      <td>localhost</td>\n    </tr>\n    <tr>\n      <th>16</th>\n      <td>localhost 127.0.0.1 - - [23/Feb/2014:03:10:31 +0100] \"OPTIONS * HTTP/1.0\" 200 - \"-\" \"Apache (internal dummy connection)\" VLOG=-</td>\n      <td>localhost</td>\n    </tr>\n    <tr>\n      <th>17</th>\n      <td>localhost 127.0.0.1 - - [23/Feb/2014:03:10:31 +0100] \"OPTIONS * HTTP/1.0\" 200 - \"-\" \"Apache (internal dummy connection)\" VLOG=-</td>\n      <td>localhost</td>\n    </tr>\n    <tr>\n      <th>18</th>\n      <td>localhost 127.0.0.1 - - [23/Feb/2014:03:10:31 +0100] \"OPTIONS * HTTP/1.0\" 200 - \"-\" \"Apache (internal dummy connection)\" VLOG=-</td>\n      <td>localhost</td>\n    </tr>\n    <tr>\n      <th>19</th>\n      <td>localhost 127.0.0.1 - - [23/Feb/2014:03:10:31 +0100] \"OPTIONS * HTTP/1.0\" 200 - \"-\" \"Apache (internal dummy connection)\" VLOG=-</td>\n      <td>localhost</td>\n    </tr>\n    <tr>\n      <th>20</th>\n      <td>localhost 127.0.0.1 - - [23/Feb/2014:03:10:31 +0100] \"OPTIONS * HTTP/1.0\" 200 - \"-\" \"Apache (internal dummy connection)\" VLOG=-</td>\n      <td>localhost</td>\n    </tr>\n    <tr>\n      <th>21</th>\n      <td>localhost 127.0.0.1 - - [23/Feb/2014:03:10:31 +0100] \"OPTIONS * HTTP/1.0\" 200 - \"-\" \"Apache (internal dummy connection)\" VLOG=-</td>\n      <td>localhost</td>\n    </tr>\n    <tr>\n      <th>22</th>\n      <td>www.akumenius.com 66.249.76.216 - - [23/Feb/2014:03:10:31 +0100] \"GET /hoteles-baratos/ofertas-hotel-Club-&amp;-Hotel-Letoonia--en-Fethiye-8460b-destinos.html HTTP/1.1\" 404 3100 \"-\" \"Mozilla/5.0 (compatible; Googlebot/2.1; +http://www.google.com/bot.html)\" VLOG=-</td>\n      <td>www.akumenius.com</td>\n    </tr>\n    <tr>\n      <th>23</th>\n      <td>www.akumenius.com 66.249.76.216 - - [23/Feb/2014:03:10:33 +0100] \"GET /hoteles-baratos/ofertas-hotel-Metropolis-Hotel-en-Kaunas-210244b-destinos.html HTTP/1.1\" 404 3100 \"-\" \"Mozilla/5.0 (compatible; Googlebot/2.1; +http://www.google.com/bot.html)\" VLOG=-</td>\n      <td>www.akumenius.com</td>\n    </tr>\n    <tr>\n      <th>24</th>\n      <td>www.akumenius.com 66.249.76.216 - - [23/Feb/2014:03:10:35 +0100] \"GET /hoteles-baratos/ofertas-hotel-Faena-Hotel-Buenos-Aires-en-Downtown-129723b-destinos.html HTTP/1.1\" 404 3100 \"-\" \"Mozilla/5.0 (compatible; Googlebot/2.1; +http://www.google.com/bot.html)\" VLOG=-</td>\n      <td>www.akumenius.com</td>\n    </tr>\n    <tr>\n      <th>25</th>\n      <td>www.akumenius.com 66.249.76.216 - - [23/Feb/2014:03:10:38 +0100] \"GET /hoteles-baratos/ofertas-hotel-Kensington-Townhouse-London-en-Kensington-54356b-destinos.html HTTP/1.1\" 404 3100 \"-\" \"Mozilla/5.0 (compatible; Googlebot/2.1; +http://www.google.com/bot.html)\" VLOG=-</td>\n      <td>www.akumenius.com</td>\n    </tr>\n  </tbody>\n</table>\n</div>"
                    },
                    "metadata": {},
                    "execution_count": 4
                }
            ],
            "metadata": {}
        },
        {
            "cell_type": "code",
            "execution_count": 5,
            "source": [
                "# Creació d'una nova columna, de nom 'ip', que enmagatzemarà la IP de la web visitada\r\n",
                "# Aquesta informació está dins la primera 'columna' de 'columnes'\r\n",
                "# Creem un patró, patro_ip, de cerca de la IP\r\n",
                "pattern_ip =\"\\d{1,3}\\.\\d{1,3}\\.\\d{1,3}\\.\\d{1,3}\"\r\n",
                "data_table[\"IP_Address\"]=data_cols.map(lambda column: re.search(pattern_ip, column[0]).group())\r\n",
                "# Display of data from row 15 to row 25\r\n",
                "data_table.loc[15:25,:]"
            ],
            "outputs": [
                {
                    "output_type": "execute_result",
                    "data": {
                        "text/plain": [
                            "                                                                                                                                                                                                                                                              Single_Data_Column  \\\n",
                            "15                                                                                                                                               localhost 127.0.0.1 - - [23/Feb/2014:03:10:31 +0100] \"OPTIONS * HTTP/1.0\" 200 - \"-\" \"Apache (internal dummy connection)\" VLOG=-   \n",
                            "16                                                                                                                                               localhost 127.0.0.1 - - [23/Feb/2014:03:10:31 +0100] \"OPTIONS * HTTP/1.0\" 200 - \"-\" \"Apache (internal dummy connection)\" VLOG=-   \n",
                            "17                                                                                                                                               localhost 127.0.0.1 - - [23/Feb/2014:03:10:31 +0100] \"OPTIONS * HTTP/1.0\" 200 - \"-\" \"Apache (internal dummy connection)\" VLOG=-   \n",
                            "18                                                                                                                                               localhost 127.0.0.1 - - [23/Feb/2014:03:10:31 +0100] \"OPTIONS * HTTP/1.0\" 200 - \"-\" \"Apache (internal dummy connection)\" VLOG=-   \n",
                            "19                                                                                                                                               localhost 127.0.0.1 - - [23/Feb/2014:03:10:31 +0100] \"OPTIONS * HTTP/1.0\" 200 - \"-\" \"Apache (internal dummy connection)\" VLOG=-   \n",
                            "20                                                                                                                                               localhost 127.0.0.1 - - [23/Feb/2014:03:10:31 +0100] \"OPTIONS * HTTP/1.0\" 200 - \"-\" \"Apache (internal dummy connection)\" VLOG=-   \n",
                            "21                                                                                                                                               localhost 127.0.0.1 - - [23/Feb/2014:03:10:31 +0100] \"OPTIONS * HTTP/1.0\" 200 - \"-\" \"Apache (internal dummy connection)\" VLOG=-   \n",
                            "22           www.akumenius.com 66.249.76.216 - - [23/Feb/2014:03:10:31 +0100] \"GET /hoteles-baratos/ofertas-hotel-Club-&-Hotel-Letoonia--en-Fethiye-8460b-destinos.html HTTP/1.1\" 404 3100 \"-\" \"Mozilla/5.0 (compatible; Googlebot/2.1; +http://www.google.com/bot.html)\" VLOG=-   \n",
                            "23                www.akumenius.com 66.249.76.216 - - [23/Feb/2014:03:10:33 +0100] \"GET /hoteles-baratos/ofertas-hotel-Metropolis-Hotel-en-Kaunas-210244b-destinos.html HTTP/1.1\" 404 3100 \"-\" \"Mozilla/5.0 (compatible; Googlebot/2.1; +http://www.google.com/bot.html)\" VLOG=-   \n",
                            "24      www.akumenius.com 66.249.76.216 - - [23/Feb/2014:03:10:35 +0100] \"GET /hoteles-baratos/ofertas-hotel-Faena-Hotel-Buenos-Aires-en-Downtown-129723b-destinos.html HTTP/1.1\" 404 3100 \"-\" \"Mozilla/5.0 (compatible; Googlebot/2.1; +http://www.google.com/bot.html)\" VLOG=-   \n",
                            "25  www.akumenius.com 66.249.76.216 - - [23/Feb/2014:03:10:38 +0100] \"GET /hoteles-baratos/ofertas-hotel-Kensington-Townhouse-London-en-Kensington-54356b-destinos.html HTTP/1.1\" 404 3100 \"-\" \"Mozilla/5.0 (compatible; Googlebot/2.1; +http://www.google.com/bot.html)\" VLOG=-   \n",
                            "\n",
                            "             Web_Site     IP_Address  \n",
                            "15          localhost      127.0.0.1  \n",
                            "16          localhost      127.0.0.1  \n",
                            "17          localhost      127.0.0.1  \n",
                            "18          localhost      127.0.0.1  \n",
                            "19          localhost      127.0.0.1  \n",
                            "20          localhost      127.0.0.1  \n",
                            "21          localhost      127.0.0.1  \n",
                            "22  www.akumenius.com  66.249.76.216  \n",
                            "23  www.akumenius.com  66.249.76.216  \n",
                            "24  www.akumenius.com  66.249.76.216  \n",
                            "25  www.akumenius.com  66.249.76.216  "
                        ],
                        "text/html": "<div>\n<style scoped>\n    .dataframe tbody tr th:only-of-type {\n        vertical-align: middle;\n    }\n\n    .dataframe tbody tr th {\n        vertical-align: top;\n    }\n\n    .dataframe thead th {\n        text-align: right;\n    }\n</style>\n<table border=\"1\" class=\"dataframe\">\n  <thead>\n    <tr style=\"text-align: right;\">\n      <th></th>\n      <th>Single_Data_Column</th>\n      <th>Web_Site</th>\n      <th>IP_Address</th>\n    </tr>\n  </thead>\n  <tbody>\n    <tr>\n      <th>15</th>\n      <td>localhost 127.0.0.1 - - [23/Feb/2014:03:10:31 +0100] \"OPTIONS * HTTP/1.0\" 200 - \"-\" \"Apache (internal dummy connection)\" VLOG=-</td>\n      <td>localhost</td>\n      <td>127.0.0.1</td>\n    </tr>\n    <tr>\n      <th>16</th>\n      <td>localhost 127.0.0.1 - - [23/Feb/2014:03:10:31 +0100] \"OPTIONS * HTTP/1.0\" 200 - \"-\" \"Apache (internal dummy connection)\" VLOG=-</td>\n      <td>localhost</td>\n      <td>127.0.0.1</td>\n    </tr>\n    <tr>\n      <th>17</th>\n      <td>localhost 127.0.0.1 - - [23/Feb/2014:03:10:31 +0100] \"OPTIONS * HTTP/1.0\" 200 - \"-\" \"Apache (internal dummy connection)\" VLOG=-</td>\n      <td>localhost</td>\n      <td>127.0.0.1</td>\n    </tr>\n    <tr>\n      <th>18</th>\n      <td>localhost 127.0.0.1 - - [23/Feb/2014:03:10:31 +0100] \"OPTIONS * HTTP/1.0\" 200 - \"-\" \"Apache (internal dummy connection)\" VLOG=-</td>\n      <td>localhost</td>\n      <td>127.0.0.1</td>\n    </tr>\n    <tr>\n      <th>19</th>\n      <td>localhost 127.0.0.1 - - [23/Feb/2014:03:10:31 +0100] \"OPTIONS * HTTP/1.0\" 200 - \"-\" \"Apache (internal dummy connection)\" VLOG=-</td>\n      <td>localhost</td>\n      <td>127.0.0.1</td>\n    </tr>\n    <tr>\n      <th>20</th>\n      <td>localhost 127.0.0.1 - - [23/Feb/2014:03:10:31 +0100] \"OPTIONS * HTTP/1.0\" 200 - \"-\" \"Apache (internal dummy connection)\" VLOG=-</td>\n      <td>localhost</td>\n      <td>127.0.0.1</td>\n    </tr>\n    <tr>\n      <th>21</th>\n      <td>localhost 127.0.0.1 - - [23/Feb/2014:03:10:31 +0100] \"OPTIONS * HTTP/1.0\" 200 - \"-\" \"Apache (internal dummy connection)\" VLOG=-</td>\n      <td>localhost</td>\n      <td>127.0.0.1</td>\n    </tr>\n    <tr>\n      <th>22</th>\n      <td>www.akumenius.com 66.249.76.216 - - [23/Feb/2014:03:10:31 +0100] \"GET /hoteles-baratos/ofertas-hotel-Club-&amp;-Hotel-Letoonia--en-Fethiye-8460b-destinos.html HTTP/1.1\" 404 3100 \"-\" \"Mozilla/5.0 (compatible; Googlebot/2.1; +http://www.google.com/bot.html)\" VLOG=-</td>\n      <td>www.akumenius.com</td>\n      <td>66.249.76.216</td>\n    </tr>\n    <tr>\n      <th>23</th>\n      <td>www.akumenius.com 66.249.76.216 - - [23/Feb/2014:03:10:33 +0100] \"GET /hoteles-baratos/ofertas-hotel-Metropolis-Hotel-en-Kaunas-210244b-destinos.html HTTP/1.1\" 404 3100 \"-\" \"Mozilla/5.0 (compatible; Googlebot/2.1; +http://www.google.com/bot.html)\" VLOG=-</td>\n      <td>www.akumenius.com</td>\n      <td>66.249.76.216</td>\n    </tr>\n    <tr>\n      <th>24</th>\n      <td>www.akumenius.com 66.249.76.216 - - [23/Feb/2014:03:10:35 +0100] \"GET /hoteles-baratos/ofertas-hotel-Faena-Hotel-Buenos-Aires-en-Downtown-129723b-destinos.html HTTP/1.1\" 404 3100 \"-\" \"Mozilla/5.0 (compatible; Googlebot/2.1; +http://www.google.com/bot.html)\" VLOG=-</td>\n      <td>www.akumenius.com</td>\n      <td>66.249.76.216</td>\n    </tr>\n    <tr>\n      <th>25</th>\n      <td>www.akumenius.com 66.249.76.216 - - [23/Feb/2014:03:10:38 +0100] \"GET /hoteles-baratos/ofertas-hotel-Kensington-Townhouse-London-en-Kensington-54356b-destinos.html HTTP/1.1\" 404 3100 \"-\" \"Mozilla/5.0 (compatible; Googlebot/2.1; +http://www.google.com/bot.html)\" VLOG=-</td>\n      <td>www.akumenius.com</td>\n      <td>66.249.76.216</td>\n    </tr>\n  </tbody>\n</table>\n</div>"
                    },
                    "metadata": {},
                    "execution_count": 5
                }
            ],
            "metadata": {}
        },
        {
            "cell_type": "code",
            "execution_count": 6,
            "source": [
                "# Creació d'una nova columna, de nom 'data_hora', que enmagatzemarà la data de la visita\r\n",
                "# Aquesta informació está dins la primera 'columna' de 'columnes'\r\n",
                "# Creem un patró, patro_data_hora, de cerca de la data\r\n",
                "pattern_date = \"\\d{1,2}/[a-zA-Z]{3}/\\d{2,4}:\\d{2}:\\d{2}:\\d{2}\\s(\\+|\\-)\\d{4}\"\r\n",
                "data_table[\"Date_and_Time\"] = data_cols.map(lambda column: re.search(pattern_date, column[0]).group())\r\n",
                "# Display of data from row 15 to row 25\r\n",
                "data_table.loc[15:25,:]"
            ],
            "outputs": [
                {
                    "output_type": "execute_result",
                    "data": {
                        "text/plain": [
                            "                                                                                                                                                                                                                                                              Single_Data_Column  \\\n",
                            "15                                                                                                                                               localhost 127.0.0.1 - - [23/Feb/2014:03:10:31 +0100] \"OPTIONS * HTTP/1.0\" 200 - \"-\" \"Apache (internal dummy connection)\" VLOG=-   \n",
                            "16                                                                                                                                               localhost 127.0.0.1 - - [23/Feb/2014:03:10:31 +0100] \"OPTIONS * HTTP/1.0\" 200 - \"-\" \"Apache (internal dummy connection)\" VLOG=-   \n",
                            "17                                                                                                                                               localhost 127.0.0.1 - - [23/Feb/2014:03:10:31 +0100] \"OPTIONS * HTTP/1.0\" 200 - \"-\" \"Apache (internal dummy connection)\" VLOG=-   \n",
                            "18                                                                                                                                               localhost 127.0.0.1 - - [23/Feb/2014:03:10:31 +0100] \"OPTIONS * HTTP/1.0\" 200 - \"-\" \"Apache (internal dummy connection)\" VLOG=-   \n",
                            "19                                                                                                                                               localhost 127.0.0.1 - - [23/Feb/2014:03:10:31 +0100] \"OPTIONS * HTTP/1.0\" 200 - \"-\" \"Apache (internal dummy connection)\" VLOG=-   \n",
                            "20                                                                                                                                               localhost 127.0.0.1 - - [23/Feb/2014:03:10:31 +0100] \"OPTIONS * HTTP/1.0\" 200 - \"-\" \"Apache (internal dummy connection)\" VLOG=-   \n",
                            "21                                                                                                                                               localhost 127.0.0.1 - - [23/Feb/2014:03:10:31 +0100] \"OPTIONS * HTTP/1.0\" 200 - \"-\" \"Apache (internal dummy connection)\" VLOG=-   \n",
                            "22           www.akumenius.com 66.249.76.216 - - [23/Feb/2014:03:10:31 +0100] \"GET /hoteles-baratos/ofertas-hotel-Club-&-Hotel-Letoonia--en-Fethiye-8460b-destinos.html HTTP/1.1\" 404 3100 \"-\" \"Mozilla/5.0 (compatible; Googlebot/2.1; +http://www.google.com/bot.html)\" VLOG=-   \n",
                            "23                www.akumenius.com 66.249.76.216 - - [23/Feb/2014:03:10:33 +0100] \"GET /hoteles-baratos/ofertas-hotel-Metropolis-Hotel-en-Kaunas-210244b-destinos.html HTTP/1.1\" 404 3100 \"-\" \"Mozilla/5.0 (compatible; Googlebot/2.1; +http://www.google.com/bot.html)\" VLOG=-   \n",
                            "24      www.akumenius.com 66.249.76.216 - - [23/Feb/2014:03:10:35 +0100] \"GET /hoteles-baratos/ofertas-hotel-Faena-Hotel-Buenos-Aires-en-Downtown-129723b-destinos.html HTTP/1.1\" 404 3100 \"-\" \"Mozilla/5.0 (compatible; Googlebot/2.1; +http://www.google.com/bot.html)\" VLOG=-   \n",
                            "25  www.akumenius.com 66.249.76.216 - - [23/Feb/2014:03:10:38 +0100] \"GET /hoteles-baratos/ofertas-hotel-Kensington-Townhouse-London-en-Kensington-54356b-destinos.html HTTP/1.1\" 404 3100 \"-\" \"Mozilla/5.0 (compatible; Googlebot/2.1; +http://www.google.com/bot.html)\" VLOG=-   \n",
                            "\n",
                            "             Web_Site     IP_Address               Date_and_Time  \n",
                            "15          localhost      127.0.0.1  23/Feb/2014:03:10:31 +0100  \n",
                            "16          localhost      127.0.0.1  23/Feb/2014:03:10:31 +0100  \n",
                            "17          localhost      127.0.0.1  23/Feb/2014:03:10:31 +0100  \n",
                            "18          localhost      127.0.0.1  23/Feb/2014:03:10:31 +0100  \n",
                            "19          localhost      127.0.0.1  23/Feb/2014:03:10:31 +0100  \n",
                            "20          localhost      127.0.0.1  23/Feb/2014:03:10:31 +0100  \n",
                            "21          localhost      127.0.0.1  23/Feb/2014:03:10:31 +0100  \n",
                            "22  www.akumenius.com  66.249.76.216  23/Feb/2014:03:10:31 +0100  \n",
                            "23  www.akumenius.com  66.249.76.216  23/Feb/2014:03:10:33 +0100  \n",
                            "24  www.akumenius.com  66.249.76.216  23/Feb/2014:03:10:35 +0100  \n",
                            "25  www.akumenius.com  66.249.76.216  23/Feb/2014:03:10:38 +0100  "
                        ],
                        "text/html": "<div>\n<style scoped>\n    .dataframe tbody tr th:only-of-type {\n        vertical-align: middle;\n    }\n\n    .dataframe tbody tr th {\n        vertical-align: top;\n    }\n\n    .dataframe thead th {\n        text-align: right;\n    }\n</style>\n<table border=\"1\" class=\"dataframe\">\n  <thead>\n    <tr style=\"text-align: right;\">\n      <th></th>\n      <th>Single_Data_Column</th>\n      <th>Web_Site</th>\n      <th>IP_Address</th>\n      <th>Date_and_Time</th>\n    </tr>\n  </thead>\n  <tbody>\n    <tr>\n      <th>15</th>\n      <td>localhost 127.0.0.1 - - [23/Feb/2014:03:10:31 +0100] \"OPTIONS * HTTP/1.0\" 200 - \"-\" \"Apache (internal dummy connection)\" VLOG=-</td>\n      <td>localhost</td>\n      <td>127.0.0.1</td>\n      <td>23/Feb/2014:03:10:31 +0100</td>\n    </tr>\n    <tr>\n      <th>16</th>\n      <td>localhost 127.0.0.1 - - [23/Feb/2014:03:10:31 +0100] \"OPTIONS * HTTP/1.0\" 200 - \"-\" \"Apache (internal dummy connection)\" VLOG=-</td>\n      <td>localhost</td>\n      <td>127.0.0.1</td>\n      <td>23/Feb/2014:03:10:31 +0100</td>\n    </tr>\n    <tr>\n      <th>17</th>\n      <td>localhost 127.0.0.1 - - [23/Feb/2014:03:10:31 +0100] \"OPTIONS * HTTP/1.0\" 200 - \"-\" \"Apache (internal dummy connection)\" VLOG=-</td>\n      <td>localhost</td>\n      <td>127.0.0.1</td>\n      <td>23/Feb/2014:03:10:31 +0100</td>\n    </tr>\n    <tr>\n      <th>18</th>\n      <td>localhost 127.0.0.1 - - [23/Feb/2014:03:10:31 +0100] \"OPTIONS * HTTP/1.0\" 200 - \"-\" \"Apache (internal dummy connection)\" VLOG=-</td>\n      <td>localhost</td>\n      <td>127.0.0.1</td>\n      <td>23/Feb/2014:03:10:31 +0100</td>\n    </tr>\n    <tr>\n      <th>19</th>\n      <td>localhost 127.0.0.1 - - [23/Feb/2014:03:10:31 +0100] \"OPTIONS * HTTP/1.0\" 200 - \"-\" \"Apache (internal dummy connection)\" VLOG=-</td>\n      <td>localhost</td>\n      <td>127.0.0.1</td>\n      <td>23/Feb/2014:03:10:31 +0100</td>\n    </tr>\n    <tr>\n      <th>20</th>\n      <td>localhost 127.0.0.1 - - [23/Feb/2014:03:10:31 +0100] \"OPTIONS * HTTP/1.0\" 200 - \"-\" \"Apache (internal dummy connection)\" VLOG=-</td>\n      <td>localhost</td>\n      <td>127.0.0.1</td>\n      <td>23/Feb/2014:03:10:31 +0100</td>\n    </tr>\n    <tr>\n      <th>21</th>\n      <td>localhost 127.0.0.1 - - [23/Feb/2014:03:10:31 +0100] \"OPTIONS * HTTP/1.0\" 200 - \"-\" \"Apache (internal dummy connection)\" VLOG=-</td>\n      <td>localhost</td>\n      <td>127.0.0.1</td>\n      <td>23/Feb/2014:03:10:31 +0100</td>\n    </tr>\n    <tr>\n      <th>22</th>\n      <td>www.akumenius.com 66.249.76.216 - - [23/Feb/2014:03:10:31 +0100] \"GET /hoteles-baratos/ofertas-hotel-Club-&amp;-Hotel-Letoonia--en-Fethiye-8460b-destinos.html HTTP/1.1\" 404 3100 \"-\" \"Mozilla/5.0 (compatible; Googlebot/2.1; +http://www.google.com/bot.html)\" VLOG=-</td>\n      <td>www.akumenius.com</td>\n      <td>66.249.76.216</td>\n      <td>23/Feb/2014:03:10:31 +0100</td>\n    </tr>\n    <tr>\n      <th>23</th>\n      <td>www.akumenius.com 66.249.76.216 - - [23/Feb/2014:03:10:33 +0100] \"GET /hoteles-baratos/ofertas-hotel-Metropolis-Hotel-en-Kaunas-210244b-destinos.html HTTP/1.1\" 404 3100 \"-\" \"Mozilla/5.0 (compatible; Googlebot/2.1; +http://www.google.com/bot.html)\" VLOG=-</td>\n      <td>www.akumenius.com</td>\n      <td>66.249.76.216</td>\n      <td>23/Feb/2014:03:10:33 +0100</td>\n    </tr>\n    <tr>\n      <th>24</th>\n      <td>www.akumenius.com 66.249.76.216 - - [23/Feb/2014:03:10:35 +0100] \"GET /hoteles-baratos/ofertas-hotel-Faena-Hotel-Buenos-Aires-en-Downtown-129723b-destinos.html HTTP/1.1\" 404 3100 \"-\" \"Mozilla/5.0 (compatible; Googlebot/2.1; +http://www.google.com/bot.html)\" VLOG=-</td>\n      <td>www.akumenius.com</td>\n      <td>66.249.76.216</td>\n      <td>23/Feb/2014:03:10:35 +0100</td>\n    </tr>\n    <tr>\n      <th>25</th>\n      <td>www.akumenius.com 66.249.76.216 - - [23/Feb/2014:03:10:38 +0100] \"GET /hoteles-baratos/ofertas-hotel-Kensington-Townhouse-London-en-Kensington-54356b-destinos.html HTTP/1.1\" 404 3100 \"-\" \"Mozilla/5.0 (compatible; Googlebot/2.1; +http://www.google.com/bot.html)\" VLOG=-</td>\n      <td>www.akumenius.com</td>\n      <td>66.249.76.216</td>\n      <td>23/Feb/2014:03:10:38 +0100</td>\n    </tr>\n  </tbody>\n</table>\n</div>"
                    },
                    "metadata": {},
                    "execution_count": 6
                }
            ],
            "metadata": {}
        },
        {
            "cell_type": "code",
            "execution_count": 7,
            "source": [
                "# Creació d'una nova columna, de nom 'get', que enmagatzemarà la petició de la visita\r\n",
                "# Aquesta informació está dins la tercera 'columna' de 'columnes'\r\n",
                "data_table[\"Get\"] = data_cols.map(lambda column: column[2])\r\n",
                "# # Display of data from row 15 to row 25\r\n",
                "data_table.loc[15:25,:]"
            ],
            "outputs": [
                {
                    "output_type": "execute_result",
                    "data": {
                        "text/plain": [
                            "                                                                                                                                                                                                                                                              Single_Data_Column  \\\n",
                            "15                                                                                                                                               localhost 127.0.0.1 - - [23/Feb/2014:03:10:31 +0100] \"OPTIONS * HTTP/1.0\" 200 - \"-\" \"Apache (internal dummy connection)\" VLOG=-   \n",
                            "16                                                                                                                                               localhost 127.0.0.1 - - [23/Feb/2014:03:10:31 +0100] \"OPTIONS * HTTP/1.0\" 200 - \"-\" \"Apache (internal dummy connection)\" VLOG=-   \n",
                            "17                                                                                                                                               localhost 127.0.0.1 - - [23/Feb/2014:03:10:31 +0100] \"OPTIONS * HTTP/1.0\" 200 - \"-\" \"Apache (internal dummy connection)\" VLOG=-   \n",
                            "18                                                                                                                                               localhost 127.0.0.1 - - [23/Feb/2014:03:10:31 +0100] \"OPTIONS * HTTP/1.0\" 200 - \"-\" \"Apache (internal dummy connection)\" VLOG=-   \n",
                            "19                                                                                                                                               localhost 127.0.0.1 - - [23/Feb/2014:03:10:31 +0100] \"OPTIONS * HTTP/1.0\" 200 - \"-\" \"Apache (internal dummy connection)\" VLOG=-   \n",
                            "20                                                                                                                                               localhost 127.0.0.1 - - [23/Feb/2014:03:10:31 +0100] \"OPTIONS * HTTP/1.0\" 200 - \"-\" \"Apache (internal dummy connection)\" VLOG=-   \n",
                            "21                                                                                                                                               localhost 127.0.0.1 - - [23/Feb/2014:03:10:31 +0100] \"OPTIONS * HTTP/1.0\" 200 - \"-\" \"Apache (internal dummy connection)\" VLOG=-   \n",
                            "22           www.akumenius.com 66.249.76.216 - - [23/Feb/2014:03:10:31 +0100] \"GET /hoteles-baratos/ofertas-hotel-Club-&-Hotel-Letoonia--en-Fethiye-8460b-destinos.html HTTP/1.1\" 404 3100 \"-\" \"Mozilla/5.0 (compatible; Googlebot/2.1; +http://www.google.com/bot.html)\" VLOG=-   \n",
                            "23                www.akumenius.com 66.249.76.216 - - [23/Feb/2014:03:10:33 +0100] \"GET /hoteles-baratos/ofertas-hotel-Metropolis-Hotel-en-Kaunas-210244b-destinos.html HTTP/1.1\" 404 3100 \"-\" \"Mozilla/5.0 (compatible; Googlebot/2.1; +http://www.google.com/bot.html)\" VLOG=-   \n",
                            "24      www.akumenius.com 66.249.76.216 - - [23/Feb/2014:03:10:35 +0100] \"GET /hoteles-baratos/ofertas-hotel-Faena-Hotel-Buenos-Aires-en-Downtown-129723b-destinos.html HTTP/1.1\" 404 3100 \"-\" \"Mozilla/5.0 (compatible; Googlebot/2.1; +http://www.google.com/bot.html)\" VLOG=-   \n",
                            "25  www.akumenius.com 66.249.76.216 - - [23/Feb/2014:03:10:38 +0100] \"GET /hoteles-baratos/ofertas-hotel-Kensington-Townhouse-London-en-Kensington-54356b-destinos.html HTTP/1.1\" 404 3100 \"-\" \"Mozilla/5.0 (compatible; Googlebot/2.1; +http://www.google.com/bot.html)\" VLOG=-   \n",
                            "\n",
                            "             Web_Site     IP_Address               Date_and_Time  \\\n",
                            "15          localhost      127.0.0.1  23/Feb/2014:03:10:31 +0100   \n",
                            "16          localhost      127.0.0.1  23/Feb/2014:03:10:31 +0100   \n",
                            "17          localhost      127.0.0.1  23/Feb/2014:03:10:31 +0100   \n",
                            "18          localhost      127.0.0.1  23/Feb/2014:03:10:31 +0100   \n",
                            "19          localhost      127.0.0.1  23/Feb/2014:03:10:31 +0100   \n",
                            "20          localhost      127.0.0.1  23/Feb/2014:03:10:31 +0100   \n",
                            "21          localhost      127.0.0.1  23/Feb/2014:03:10:31 +0100   \n",
                            "22  www.akumenius.com  66.249.76.216  23/Feb/2014:03:10:31 +0100   \n",
                            "23  www.akumenius.com  66.249.76.216  23/Feb/2014:03:10:33 +0100   \n",
                            "24  www.akumenius.com  66.249.76.216  23/Feb/2014:03:10:35 +0100   \n",
                            "25  www.akumenius.com  66.249.76.216  23/Feb/2014:03:10:38 +0100   \n",
                            "\n",
                            "                                                                                                           Get  \n",
                            "15                                                                                          OPTIONS * HTTP/1.0  \n",
                            "16                                                                                          OPTIONS * HTTP/1.0  \n",
                            "17                                                                                          OPTIONS * HTTP/1.0  \n",
                            "18                                                                                          OPTIONS * HTTP/1.0  \n",
                            "19                                                                                          OPTIONS * HTTP/1.0  \n",
                            "20                                                                                          OPTIONS * HTTP/1.0  \n",
                            "21                                                                                          OPTIONS * HTTP/1.0  \n",
                            "22           GET /hoteles-baratos/ofertas-hotel-Club-&-Hotel-Letoonia--en-Fethiye-8460b-destinos.html HTTP/1.1  \n",
                            "23                GET /hoteles-baratos/ofertas-hotel-Metropolis-Hotel-en-Kaunas-210244b-destinos.html HTTP/1.1  \n",
                            "24      GET /hoteles-baratos/ofertas-hotel-Faena-Hotel-Buenos-Aires-en-Downtown-129723b-destinos.html HTTP/1.1  \n",
                            "25  GET /hoteles-baratos/ofertas-hotel-Kensington-Townhouse-London-en-Kensington-54356b-destinos.html HTTP/1.1  "
                        ],
                        "text/html": "<div>\n<style scoped>\n    .dataframe tbody tr th:only-of-type {\n        vertical-align: middle;\n    }\n\n    .dataframe tbody tr th {\n        vertical-align: top;\n    }\n\n    .dataframe thead th {\n        text-align: right;\n    }\n</style>\n<table border=\"1\" class=\"dataframe\">\n  <thead>\n    <tr style=\"text-align: right;\">\n      <th></th>\n      <th>Single_Data_Column</th>\n      <th>Web_Site</th>\n      <th>IP_Address</th>\n      <th>Date_and_Time</th>\n      <th>Get</th>\n    </tr>\n  </thead>\n  <tbody>\n    <tr>\n      <th>15</th>\n      <td>localhost 127.0.0.1 - - [23/Feb/2014:03:10:31 +0100] \"OPTIONS * HTTP/1.0\" 200 - \"-\" \"Apache (internal dummy connection)\" VLOG=-</td>\n      <td>localhost</td>\n      <td>127.0.0.1</td>\n      <td>23/Feb/2014:03:10:31 +0100</td>\n      <td>OPTIONS * HTTP/1.0</td>\n    </tr>\n    <tr>\n      <th>16</th>\n      <td>localhost 127.0.0.1 - - [23/Feb/2014:03:10:31 +0100] \"OPTIONS * HTTP/1.0\" 200 - \"-\" \"Apache (internal dummy connection)\" VLOG=-</td>\n      <td>localhost</td>\n      <td>127.0.0.1</td>\n      <td>23/Feb/2014:03:10:31 +0100</td>\n      <td>OPTIONS * HTTP/1.0</td>\n    </tr>\n    <tr>\n      <th>17</th>\n      <td>localhost 127.0.0.1 - - [23/Feb/2014:03:10:31 +0100] \"OPTIONS * HTTP/1.0\" 200 - \"-\" \"Apache (internal dummy connection)\" VLOG=-</td>\n      <td>localhost</td>\n      <td>127.0.0.1</td>\n      <td>23/Feb/2014:03:10:31 +0100</td>\n      <td>OPTIONS * HTTP/1.0</td>\n    </tr>\n    <tr>\n      <th>18</th>\n      <td>localhost 127.0.0.1 - - [23/Feb/2014:03:10:31 +0100] \"OPTIONS * HTTP/1.0\" 200 - \"-\" \"Apache (internal dummy connection)\" VLOG=-</td>\n      <td>localhost</td>\n      <td>127.0.0.1</td>\n      <td>23/Feb/2014:03:10:31 +0100</td>\n      <td>OPTIONS * HTTP/1.0</td>\n    </tr>\n    <tr>\n      <th>19</th>\n      <td>localhost 127.0.0.1 - - [23/Feb/2014:03:10:31 +0100] \"OPTIONS * HTTP/1.0\" 200 - \"-\" \"Apache (internal dummy connection)\" VLOG=-</td>\n      <td>localhost</td>\n      <td>127.0.0.1</td>\n      <td>23/Feb/2014:03:10:31 +0100</td>\n      <td>OPTIONS * HTTP/1.0</td>\n    </tr>\n    <tr>\n      <th>20</th>\n      <td>localhost 127.0.0.1 - - [23/Feb/2014:03:10:31 +0100] \"OPTIONS * HTTP/1.0\" 200 - \"-\" \"Apache (internal dummy connection)\" VLOG=-</td>\n      <td>localhost</td>\n      <td>127.0.0.1</td>\n      <td>23/Feb/2014:03:10:31 +0100</td>\n      <td>OPTIONS * HTTP/1.0</td>\n    </tr>\n    <tr>\n      <th>21</th>\n      <td>localhost 127.0.0.1 - - [23/Feb/2014:03:10:31 +0100] \"OPTIONS * HTTP/1.0\" 200 - \"-\" \"Apache (internal dummy connection)\" VLOG=-</td>\n      <td>localhost</td>\n      <td>127.0.0.1</td>\n      <td>23/Feb/2014:03:10:31 +0100</td>\n      <td>OPTIONS * HTTP/1.0</td>\n    </tr>\n    <tr>\n      <th>22</th>\n      <td>www.akumenius.com 66.249.76.216 - - [23/Feb/2014:03:10:31 +0100] \"GET /hoteles-baratos/ofertas-hotel-Club-&amp;-Hotel-Letoonia--en-Fethiye-8460b-destinos.html HTTP/1.1\" 404 3100 \"-\" \"Mozilla/5.0 (compatible; Googlebot/2.1; +http://www.google.com/bot.html)\" VLOG=-</td>\n      <td>www.akumenius.com</td>\n      <td>66.249.76.216</td>\n      <td>23/Feb/2014:03:10:31 +0100</td>\n      <td>GET /hoteles-baratos/ofertas-hotel-Club-&amp;-Hotel-Letoonia--en-Fethiye-8460b-destinos.html HTTP/1.1</td>\n    </tr>\n    <tr>\n      <th>23</th>\n      <td>www.akumenius.com 66.249.76.216 - - [23/Feb/2014:03:10:33 +0100] \"GET /hoteles-baratos/ofertas-hotel-Metropolis-Hotel-en-Kaunas-210244b-destinos.html HTTP/1.1\" 404 3100 \"-\" \"Mozilla/5.0 (compatible; Googlebot/2.1; +http://www.google.com/bot.html)\" VLOG=-</td>\n      <td>www.akumenius.com</td>\n      <td>66.249.76.216</td>\n      <td>23/Feb/2014:03:10:33 +0100</td>\n      <td>GET /hoteles-baratos/ofertas-hotel-Metropolis-Hotel-en-Kaunas-210244b-destinos.html HTTP/1.1</td>\n    </tr>\n    <tr>\n      <th>24</th>\n      <td>www.akumenius.com 66.249.76.216 - - [23/Feb/2014:03:10:35 +0100] \"GET /hoteles-baratos/ofertas-hotel-Faena-Hotel-Buenos-Aires-en-Downtown-129723b-destinos.html HTTP/1.1\" 404 3100 \"-\" \"Mozilla/5.0 (compatible; Googlebot/2.1; +http://www.google.com/bot.html)\" VLOG=-</td>\n      <td>www.akumenius.com</td>\n      <td>66.249.76.216</td>\n      <td>23/Feb/2014:03:10:35 +0100</td>\n      <td>GET /hoteles-baratos/ofertas-hotel-Faena-Hotel-Buenos-Aires-en-Downtown-129723b-destinos.html HTTP/1.1</td>\n    </tr>\n    <tr>\n      <th>25</th>\n      <td>www.akumenius.com 66.249.76.216 - - [23/Feb/2014:03:10:38 +0100] \"GET /hoteles-baratos/ofertas-hotel-Kensington-Townhouse-London-en-Kensington-54356b-destinos.html HTTP/1.1\" 404 3100 \"-\" \"Mozilla/5.0 (compatible; Googlebot/2.1; +http://www.google.com/bot.html)\" VLOG=-</td>\n      <td>www.akumenius.com</td>\n      <td>66.249.76.216</td>\n      <td>23/Feb/2014:03:10:38 +0100</td>\n      <td>GET /hoteles-baratos/ofertas-hotel-Kensington-Townhouse-London-en-Kensington-54356b-destinos.html HTTP/1.1</td>\n    </tr>\n  </tbody>\n</table>\n</div>"
                    },
                    "metadata": {},
                    "execution_count": 7
                }
            ],
            "metadata": {}
        },
        {
            "cell_type": "code",
            "execution_count": 8,
            "source": [
                "# Creació d'una nova columna, de nom 'numeros', que enmagatzemarà els numeros de la visita\r\n",
                "# Aquesta informació está dins la quarta 'columna' de 'columnes'\r\n",
                "data_table[\"Numbers\"] = data_cols.map(lambda column: column[4] if len(column) >=5 else \"\")\r\n",
                "# Display of data from row 15 to row 25\r\n",
                "data_table.loc[15:25,:]"
            ],
            "outputs": [
                {
                    "output_type": "execute_result",
                    "data": {
                        "text/plain": [
                            "                                                                                                                                                                                                                                                              Single_Data_Column  \\\n",
                            "15                                                                                                                                               localhost 127.0.0.1 - - [23/Feb/2014:03:10:31 +0100] \"OPTIONS * HTTP/1.0\" 200 - \"-\" \"Apache (internal dummy connection)\" VLOG=-   \n",
                            "16                                                                                                                                               localhost 127.0.0.1 - - [23/Feb/2014:03:10:31 +0100] \"OPTIONS * HTTP/1.0\" 200 - \"-\" \"Apache (internal dummy connection)\" VLOG=-   \n",
                            "17                                                                                                                                               localhost 127.0.0.1 - - [23/Feb/2014:03:10:31 +0100] \"OPTIONS * HTTP/1.0\" 200 - \"-\" \"Apache (internal dummy connection)\" VLOG=-   \n",
                            "18                                                                                                                                               localhost 127.0.0.1 - - [23/Feb/2014:03:10:31 +0100] \"OPTIONS * HTTP/1.0\" 200 - \"-\" \"Apache (internal dummy connection)\" VLOG=-   \n",
                            "19                                                                                                                                               localhost 127.0.0.1 - - [23/Feb/2014:03:10:31 +0100] \"OPTIONS * HTTP/1.0\" 200 - \"-\" \"Apache (internal dummy connection)\" VLOG=-   \n",
                            "20                                                                                                                                               localhost 127.0.0.1 - - [23/Feb/2014:03:10:31 +0100] \"OPTIONS * HTTP/1.0\" 200 - \"-\" \"Apache (internal dummy connection)\" VLOG=-   \n",
                            "21                                                                                                                                               localhost 127.0.0.1 - - [23/Feb/2014:03:10:31 +0100] \"OPTIONS * HTTP/1.0\" 200 - \"-\" \"Apache (internal dummy connection)\" VLOG=-   \n",
                            "22           www.akumenius.com 66.249.76.216 - - [23/Feb/2014:03:10:31 +0100] \"GET /hoteles-baratos/ofertas-hotel-Club-&-Hotel-Letoonia--en-Fethiye-8460b-destinos.html HTTP/1.1\" 404 3100 \"-\" \"Mozilla/5.0 (compatible; Googlebot/2.1; +http://www.google.com/bot.html)\" VLOG=-   \n",
                            "23                www.akumenius.com 66.249.76.216 - - [23/Feb/2014:03:10:33 +0100] \"GET /hoteles-baratos/ofertas-hotel-Metropolis-Hotel-en-Kaunas-210244b-destinos.html HTTP/1.1\" 404 3100 \"-\" \"Mozilla/5.0 (compatible; Googlebot/2.1; +http://www.google.com/bot.html)\" VLOG=-   \n",
                            "24      www.akumenius.com 66.249.76.216 - - [23/Feb/2014:03:10:35 +0100] \"GET /hoteles-baratos/ofertas-hotel-Faena-Hotel-Buenos-Aires-en-Downtown-129723b-destinos.html HTTP/1.1\" 404 3100 \"-\" \"Mozilla/5.0 (compatible; Googlebot/2.1; +http://www.google.com/bot.html)\" VLOG=-   \n",
                            "25  www.akumenius.com 66.249.76.216 - - [23/Feb/2014:03:10:38 +0100] \"GET /hoteles-baratos/ofertas-hotel-Kensington-Townhouse-London-en-Kensington-54356b-destinos.html HTTP/1.1\" 404 3100 \"-\" \"Mozilla/5.0 (compatible; Googlebot/2.1; +http://www.google.com/bot.html)\" VLOG=-   \n",
                            "\n",
                            "             Web_Site     IP_Address               Date_and_Time  \\\n",
                            "15          localhost      127.0.0.1  23/Feb/2014:03:10:31 +0100   \n",
                            "16          localhost      127.0.0.1  23/Feb/2014:03:10:31 +0100   \n",
                            "17          localhost      127.0.0.1  23/Feb/2014:03:10:31 +0100   \n",
                            "18          localhost      127.0.0.1  23/Feb/2014:03:10:31 +0100   \n",
                            "19          localhost      127.0.0.1  23/Feb/2014:03:10:31 +0100   \n",
                            "20          localhost      127.0.0.1  23/Feb/2014:03:10:31 +0100   \n",
                            "21          localhost      127.0.0.1  23/Feb/2014:03:10:31 +0100   \n",
                            "22  www.akumenius.com  66.249.76.216  23/Feb/2014:03:10:31 +0100   \n",
                            "23  www.akumenius.com  66.249.76.216  23/Feb/2014:03:10:33 +0100   \n",
                            "24  www.akumenius.com  66.249.76.216  23/Feb/2014:03:10:35 +0100   \n",
                            "25  www.akumenius.com  66.249.76.216  23/Feb/2014:03:10:38 +0100   \n",
                            "\n",
                            "                                                                                                           Get  \\\n",
                            "15                                                                                          OPTIONS * HTTP/1.0   \n",
                            "16                                                                                          OPTIONS * HTTP/1.0   \n",
                            "17                                                                                          OPTIONS * HTTP/1.0   \n",
                            "18                                                                                          OPTIONS * HTTP/1.0   \n",
                            "19                                                                                          OPTIONS * HTTP/1.0   \n",
                            "20                                                                                          OPTIONS * HTTP/1.0   \n",
                            "21                                                                                          OPTIONS * HTTP/1.0   \n",
                            "22           GET /hoteles-baratos/ofertas-hotel-Club-&-Hotel-Letoonia--en-Fethiye-8460b-destinos.html HTTP/1.1   \n",
                            "23                GET /hoteles-baratos/ofertas-hotel-Metropolis-Hotel-en-Kaunas-210244b-destinos.html HTTP/1.1   \n",
                            "24      GET /hoteles-baratos/ofertas-hotel-Faena-Hotel-Buenos-Aires-en-Downtown-129723b-destinos.html HTTP/1.1   \n",
                            "25  GET /hoteles-baratos/ofertas-hotel-Kensington-Townhouse-London-en-Kensington-54356b-destinos.html HTTP/1.1   \n",
                            "\n",
                            "       Numbers  \n",
                            "15      200 -   \n",
                            "16      200 -   \n",
                            "17      200 -   \n",
                            "18      200 -   \n",
                            "19      200 -   \n",
                            "20      200 -   \n",
                            "21      200 -   \n",
                            "22   404 3100   \n",
                            "23   404 3100   \n",
                            "24   404 3100   \n",
                            "25   404 3100   "
                        ],
                        "text/html": "<div>\n<style scoped>\n    .dataframe tbody tr th:only-of-type {\n        vertical-align: middle;\n    }\n\n    .dataframe tbody tr th {\n        vertical-align: top;\n    }\n\n    .dataframe thead th {\n        text-align: right;\n    }\n</style>\n<table border=\"1\" class=\"dataframe\">\n  <thead>\n    <tr style=\"text-align: right;\">\n      <th></th>\n      <th>Single_Data_Column</th>\n      <th>Web_Site</th>\n      <th>IP_Address</th>\n      <th>Date_and_Time</th>\n      <th>Get</th>\n      <th>Numbers</th>\n    </tr>\n  </thead>\n  <tbody>\n    <tr>\n      <th>15</th>\n      <td>localhost 127.0.0.1 - - [23/Feb/2014:03:10:31 +0100] \"OPTIONS * HTTP/1.0\" 200 - \"-\" \"Apache (internal dummy connection)\" VLOG=-</td>\n      <td>localhost</td>\n      <td>127.0.0.1</td>\n      <td>23/Feb/2014:03:10:31 +0100</td>\n      <td>OPTIONS * HTTP/1.0</td>\n      <td>200 -</td>\n    </tr>\n    <tr>\n      <th>16</th>\n      <td>localhost 127.0.0.1 - - [23/Feb/2014:03:10:31 +0100] \"OPTIONS * HTTP/1.0\" 200 - \"-\" \"Apache (internal dummy connection)\" VLOG=-</td>\n      <td>localhost</td>\n      <td>127.0.0.1</td>\n      <td>23/Feb/2014:03:10:31 +0100</td>\n      <td>OPTIONS * HTTP/1.0</td>\n      <td>200 -</td>\n    </tr>\n    <tr>\n      <th>17</th>\n      <td>localhost 127.0.0.1 - - [23/Feb/2014:03:10:31 +0100] \"OPTIONS * HTTP/1.0\" 200 - \"-\" \"Apache (internal dummy connection)\" VLOG=-</td>\n      <td>localhost</td>\n      <td>127.0.0.1</td>\n      <td>23/Feb/2014:03:10:31 +0100</td>\n      <td>OPTIONS * HTTP/1.0</td>\n      <td>200 -</td>\n    </tr>\n    <tr>\n      <th>18</th>\n      <td>localhost 127.0.0.1 - - [23/Feb/2014:03:10:31 +0100] \"OPTIONS * HTTP/1.0\" 200 - \"-\" \"Apache (internal dummy connection)\" VLOG=-</td>\n      <td>localhost</td>\n      <td>127.0.0.1</td>\n      <td>23/Feb/2014:03:10:31 +0100</td>\n      <td>OPTIONS * HTTP/1.0</td>\n      <td>200 -</td>\n    </tr>\n    <tr>\n      <th>19</th>\n      <td>localhost 127.0.0.1 - - [23/Feb/2014:03:10:31 +0100] \"OPTIONS * HTTP/1.0\" 200 - \"-\" \"Apache (internal dummy connection)\" VLOG=-</td>\n      <td>localhost</td>\n      <td>127.0.0.1</td>\n      <td>23/Feb/2014:03:10:31 +0100</td>\n      <td>OPTIONS * HTTP/1.0</td>\n      <td>200 -</td>\n    </tr>\n    <tr>\n      <th>20</th>\n      <td>localhost 127.0.0.1 - - [23/Feb/2014:03:10:31 +0100] \"OPTIONS * HTTP/1.0\" 200 - \"-\" \"Apache (internal dummy connection)\" VLOG=-</td>\n      <td>localhost</td>\n      <td>127.0.0.1</td>\n      <td>23/Feb/2014:03:10:31 +0100</td>\n      <td>OPTIONS * HTTP/1.0</td>\n      <td>200 -</td>\n    </tr>\n    <tr>\n      <th>21</th>\n      <td>localhost 127.0.0.1 - - [23/Feb/2014:03:10:31 +0100] \"OPTIONS * HTTP/1.0\" 200 - \"-\" \"Apache (internal dummy connection)\" VLOG=-</td>\n      <td>localhost</td>\n      <td>127.0.0.1</td>\n      <td>23/Feb/2014:03:10:31 +0100</td>\n      <td>OPTIONS * HTTP/1.0</td>\n      <td>200 -</td>\n    </tr>\n    <tr>\n      <th>22</th>\n      <td>www.akumenius.com 66.249.76.216 - - [23/Feb/2014:03:10:31 +0100] \"GET /hoteles-baratos/ofertas-hotel-Club-&amp;-Hotel-Letoonia--en-Fethiye-8460b-destinos.html HTTP/1.1\" 404 3100 \"-\" \"Mozilla/5.0 (compatible; Googlebot/2.1; +http://www.google.com/bot.html)\" VLOG=-</td>\n      <td>www.akumenius.com</td>\n      <td>66.249.76.216</td>\n      <td>23/Feb/2014:03:10:31 +0100</td>\n      <td>GET /hoteles-baratos/ofertas-hotel-Club-&amp;-Hotel-Letoonia--en-Fethiye-8460b-destinos.html HTTP/1.1</td>\n      <td>404 3100</td>\n    </tr>\n    <tr>\n      <th>23</th>\n      <td>www.akumenius.com 66.249.76.216 - - [23/Feb/2014:03:10:33 +0100] \"GET /hoteles-baratos/ofertas-hotel-Metropolis-Hotel-en-Kaunas-210244b-destinos.html HTTP/1.1\" 404 3100 \"-\" \"Mozilla/5.0 (compatible; Googlebot/2.1; +http://www.google.com/bot.html)\" VLOG=-</td>\n      <td>www.akumenius.com</td>\n      <td>66.249.76.216</td>\n      <td>23/Feb/2014:03:10:33 +0100</td>\n      <td>GET /hoteles-baratos/ofertas-hotel-Metropolis-Hotel-en-Kaunas-210244b-destinos.html HTTP/1.1</td>\n      <td>404 3100</td>\n    </tr>\n    <tr>\n      <th>24</th>\n      <td>www.akumenius.com 66.249.76.216 - - [23/Feb/2014:03:10:35 +0100] \"GET /hoteles-baratos/ofertas-hotel-Faena-Hotel-Buenos-Aires-en-Downtown-129723b-destinos.html HTTP/1.1\" 404 3100 \"-\" \"Mozilla/5.0 (compatible; Googlebot/2.1; +http://www.google.com/bot.html)\" VLOG=-</td>\n      <td>www.akumenius.com</td>\n      <td>66.249.76.216</td>\n      <td>23/Feb/2014:03:10:35 +0100</td>\n      <td>GET /hoteles-baratos/ofertas-hotel-Faena-Hotel-Buenos-Aires-en-Downtown-129723b-destinos.html HTTP/1.1</td>\n      <td>404 3100</td>\n    </tr>\n    <tr>\n      <th>25</th>\n      <td>www.akumenius.com 66.249.76.216 - - [23/Feb/2014:03:10:38 +0100] \"GET /hoteles-baratos/ofertas-hotel-Kensington-Townhouse-London-en-Kensington-54356b-destinos.html HTTP/1.1\" 404 3100 \"-\" \"Mozilla/5.0 (compatible; Googlebot/2.1; +http://www.google.com/bot.html)\" VLOG=-</td>\n      <td>www.akumenius.com</td>\n      <td>66.249.76.216</td>\n      <td>23/Feb/2014:03:10:38 +0100</td>\n      <td>GET /hoteles-baratos/ofertas-hotel-Kensington-Townhouse-London-en-Kensington-54356b-destinos.html HTTP/1.1</td>\n      <td>404 3100</td>\n    </tr>\n  </tbody>\n</table>\n</div>"
                    },
                    "metadata": {},
                    "execution_count": 8
                }
            ],
            "metadata": {}
        },
        {
            "cell_type": "code",
            "execution_count": 9,
            "source": [
                "# Creació d'una nova columna, de nom 'pagina', que enmagatzemarà la pàgina visita\r\n",
                "# Aquesta informació está dins la sisena 'columna' de 'columnes'\r\n",
                "data_table[\"Page\"] = data_cols.map(lambda column: column[6] if len(column) >=7 else \"\")\r\n",
                "# Display of data from row 15 to row 25\r\n",
                "data_table.loc[15:25,:]"
            ],
            "outputs": [
                {
                    "output_type": "execute_result",
                    "data": {
                        "text/plain": [
                            "                                                                                                                                                                                                                                                              Single_Data_Column  \\\n",
                            "15                                                                                                                                               localhost 127.0.0.1 - - [23/Feb/2014:03:10:31 +0100] \"OPTIONS * HTTP/1.0\" 200 - \"-\" \"Apache (internal dummy connection)\" VLOG=-   \n",
                            "16                                                                                                                                               localhost 127.0.0.1 - - [23/Feb/2014:03:10:31 +0100] \"OPTIONS * HTTP/1.0\" 200 - \"-\" \"Apache (internal dummy connection)\" VLOG=-   \n",
                            "17                                                                                                                                               localhost 127.0.0.1 - - [23/Feb/2014:03:10:31 +0100] \"OPTIONS * HTTP/1.0\" 200 - \"-\" \"Apache (internal dummy connection)\" VLOG=-   \n",
                            "18                                                                                                                                               localhost 127.0.0.1 - - [23/Feb/2014:03:10:31 +0100] \"OPTIONS * HTTP/1.0\" 200 - \"-\" \"Apache (internal dummy connection)\" VLOG=-   \n",
                            "19                                                                                                                                               localhost 127.0.0.1 - - [23/Feb/2014:03:10:31 +0100] \"OPTIONS * HTTP/1.0\" 200 - \"-\" \"Apache (internal dummy connection)\" VLOG=-   \n",
                            "20                                                                                                                                               localhost 127.0.0.1 - - [23/Feb/2014:03:10:31 +0100] \"OPTIONS * HTTP/1.0\" 200 - \"-\" \"Apache (internal dummy connection)\" VLOG=-   \n",
                            "21                                                                                                                                               localhost 127.0.0.1 - - [23/Feb/2014:03:10:31 +0100] \"OPTIONS * HTTP/1.0\" 200 - \"-\" \"Apache (internal dummy connection)\" VLOG=-   \n",
                            "22           www.akumenius.com 66.249.76.216 - - [23/Feb/2014:03:10:31 +0100] \"GET /hoteles-baratos/ofertas-hotel-Club-&-Hotel-Letoonia--en-Fethiye-8460b-destinos.html HTTP/1.1\" 404 3100 \"-\" \"Mozilla/5.0 (compatible; Googlebot/2.1; +http://www.google.com/bot.html)\" VLOG=-   \n",
                            "23                www.akumenius.com 66.249.76.216 - - [23/Feb/2014:03:10:33 +0100] \"GET /hoteles-baratos/ofertas-hotel-Metropolis-Hotel-en-Kaunas-210244b-destinos.html HTTP/1.1\" 404 3100 \"-\" \"Mozilla/5.0 (compatible; Googlebot/2.1; +http://www.google.com/bot.html)\" VLOG=-   \n",
                            "24      www.akumenius.com 66.249.76.216 - - [23/Feb/2014:03:10:35 +0100] \"GET /hoteles-baratos/ofertas-hotel-Faena-Hotel-Buenos-Aires-en-Downtown-129723b-destinos.html HTTP/1.1\" 404 3100 \"-\" \"Mozilla/5.0 (compatible; Googlebot/2.1; +http://www.google.com/bot.html)\" VLOG=-   \n",
                            "25  www.akumenius.com 66.249.76.216 - - [23/Feb/2014:03:10:38 +0100] \"GET /hoteles-baratos/ofertas-hotel-Kensington-Townhouse-London-en-Kensington-54356b-destinos.html HTTP/1.1\" 404 3100 \"-\" \"Mozilla/5.0 (compatible; Googlebot/2.1; +http://www.google.com/bot.html)\" VLOG=-   \n",
                            "\n",
                            "             Web_Site     IP_Address               Date_and_Time  \\\n",
                            "15          localhost      127.0.0.1  23/Feb/2014:03:10:31 +0100   \n",
                            "16          localhost      127.0.0.1  23/Feb/2014:03:10:31 +0100   \n",
                            "17          localhost      127.0.0.1  23/Feb/2014:03:10:31 +0100   \n",
                            "18          localhost      127.0.0.1  23/Feb/2014:03:10:31 +0100   \n",
                            "19          localhost      127.0.0.1  23/Feb/2014:03:10:31 +0100   \n",
                            "20          localhost      127.0.0.1  23/Feb/2014:03:10:31 +0100   \n",
                            "21          localhost      127.0.0.1  23/Feb/2014:03:10:31 +0100   \n",
                            "22  www.akumenius.com  66.249.76.216  23/Feb/2014:03:10:31 +0100   \n",
                            "23  www.akumenius.com  66.249.76.216  23/Feb/2014:03:10:33 +0100   \n",
                            "24  www.akumenius.com  66.249.76.216  23/Feb/2014:03:10:35 +0100   \n",
                            "25  www.akumenius.com  66.249.76.216  23/Feb/2014:03:10:38 +0100   \n",
                            "\n",
                            "                                                                                                           Get  \\\n",
                            "15                                                                                          OPTIONS * HTTP/1.0   \n",
                            "16                                                                                          OPTIONS * HTTP/1.0   \n",
                            "17                                                                                          OPTIONS * HTTP/1.0   \n",
                            "18                                                                                          OPTIONS * HTTP/1.0   \n",
                            "19                                                                                          OPTIONS * HTTP/1.0   \n",
                            "20                                                                                          OPTIONS * HTTP/1.0   \n",
                            "21                                                                                          OPTIONS * HTTP/1.0   \n",
                            "22           GET /hoteles-baratos/ofertas-hotel-Club-&-Hotel-Letoonia--en-Fethiye-8460b-destinos.html HTTP/1.1   \n",
                            "23                GET /hoteles-baratos/ofertas-hotel-Metropolis-Hotel-en-Kaunas-210244b-destinos.html HTTP/1.1   \n",
                            "24      GET /hoteles-baratos/ofertas-hotel-Faena-Hotel-Buenos-Aires-en-Downtown-129723b-destinos.html HTTP/1.1   \n",
                            "25  GET /hoteles-baratos/ofertas-hotel-Kensington-Townhouse-London-en-Kensington-54356b-destinos.html HTTP/1.1   \n",
                            "\n",
                            "       Numbers Page  \n",
                            "15      200 -     -  \n",
                            "16      200 -     -  \n",
                            "17      200 -     -  \n",
                            "18      200 -     -  \n",
                            "19      200 -     -  \n",
                            "20      200 -     -  \n",
                            "21      200 -     -  \n",
                            "22   404 3100     -  \n",
                            "23   404 3100     -  \n",
                            "24   404 3100     -  \n",
                            "25   404 3100     -  "
                        ],
                        "text/html": "<div>\n<style scoped>\n    .dataframe tbody tr th:only-of-type {\n        vertical-align: middle;\n    }\n\n    .dataframe tbody tr th {\n        vertical-align: top;\n    }\n\n    .dataframe thead th {\n        text-align: right;\n    }\n</style>\n<table border=\"1\" class=\"dataframe\">\n  <thead>\n    <tr style=\"text-align: right;\">\n      <th></th>\n      <th>Single_Data_Column</th>\n      <th>Web_Site</th>\n      <th>IP_Address</th>\n      <th>Date_and_Time</th>\n      <th>Get</th>\n      <th>Numbers</th>\n      <th>Page</th>\n    </tr>\n  </thead>\n  <tbody>\n    <tr>\n      <th>15</th>\n      <td>localhost 127.0.0.1 - - [23/Feb/2014:03:10:31 +0100] \"OPTIONS * HTTP/1.0\" 200 - \"-\" \"Apache (internal dummy connection)\" VLOG=-</td>\n      <td>localhost</td>\n      <td>127.0.0.1</td>\n      <td>23/Feb/2014:03:10:31 +0100</td>\n      <td>OPTIONS * HTTP/1.0</td>\n      <td>200 -</td>\n      <td>-</td>\n    </tr>\n    <tr>\n      <th>16</th>\n      <td>localhost 127.0.0.1 - - [23/Feb/2014:03:10:31 +0100] \"OPTIONS * HTTP/1.0\" 200 - \"-\" \"Apache (internal dummy connection)\" VLOG=-</td>\n      <td>localhost</td>\n      <td>127.0.0.1</td>\n      <td>23/Feb/2014:03:10:31 +0100</td>\n      <td>OPTIONS * HTTP/1.0</td>\n      <td>200 -</td>\n      <td>-</td>\n    </tr>\n    <tr>\n      <th>17</th>\n      <td>localhost 127.0.0.1 - - [23/Feb/2014:03:10:31 +0100] \"OPTIONS * HTTP/1.0\" 200 - \"-\" \"Apache (internal dummy connection)\" VLOG=-</td>\n      <td>localhost</td>\n      <td>127.0.0.1</td>\n      <td>23/Feb/2014:03:10:31 +0100</td>\n      <td>OPTIONS * HTTP/1.0</td>\n      <td>200 -</td>\n      <td>-</td>\n    </tr>\n    <tr>\n      <th>18</th>\n      <td>localhost 127.0.0.1 - - [23/Feb/2014:03:10:31 +0100] \"OPTIONS * HTTP/1.0\" 200 - \"-\" \"Apache (internal dummy connection)\" VLOG=-</td>\n      <td>localhost</td>\n      <td>127.0.0.1</td>\n      <td>23/Feb/2014:03:10:31 +0100</td>\n      <td>OPTIONS * HTTP/1.0</td>\n      <td>200 -</td>\n      <td>-</td>\n    </tr>\n    <tr>\n      <th>19</th>\n      <td>localhost 127.0.0.1 - - [23/Feb/2014:03:10:31 +0100] \"OPTIONS * HTTP/1.0\" 200 - \"-\" \"Apache (internal dummy connection)\" VLOG=-</td>\n      <td>localhost</td>\n      <td>127.0.0.1</td>\n      <td>23/Feb/2014:03:10:31 +0100</td>\n      <td>OPTIONS * HTTP/1.0</td>\n      <td>200 -</td>\n      <td>-</td>\n    </tr>\n    <tr>\n      <th>20</th>\n      <td>localhost 127.0.0.1 - - [23/Feb/2014:03:10:31 +0100] \"OPTIONS * HTTP/1.0\" 200 - \"-\" \"Apache (internal dummy connection)\" VLOG=-</td>\n      <td>localhost</td>\n      <td>127.0.0.1</td>\n      <td>23/Feb/2014:03:10:31 +0100</td>\n      <td>OPTIONS * HTTP/1.0</td>\n      <td>200 -</td>\n      <td>-</td>\n    </tr>\n    <tr>\n      <th>21</th>\n      <td>localhost 127.0.0.1 - - [23/Feb/2014:03:10:31 +0100] \"OPTIONS * HTTP/1.0\" 200 - \"-\" \"Apache (internal dummy connection)\" VLOG=-</td>\n      <td>localhost</td>\n      <td>127.0.0.1</td>\n      <td>23/Feb/2014:03:10:31 +0100</td>\n      <td>OPTIONS * HTTP/1.0</td>\n      <td>200 -</td>\n      <td>-</td>\n    </tr>\n    <tr>\n      <th>22</th>\n      <td>www.akumenius.com 66.249.76.216 - - [23/Feb/2014:03:10:31 +0100] \"GET /hoteles-baratos/ofertas-hotel-Club-&amp;-Hotel-Letoonia--en-Fethiye-8460b-destinos.html HTTP/1.1\" 404 3100 \"-\" \"Mozilla/5.0 (compatible; Googlebot/2.1; +http://www.google.com/bot.html)\" VLOG=-</td>\n      <td>www.akumenius.com</td>\n      <td>66.249.76.216</td>\n      <td>23/Feb/2014:03:10:31 +0100</td>\n      <td>GET /hoteles-baratos/ofertas-hotel-Club-&amp;-Hotel-Letoonia--en-Fethiye-8460b-destinos.html HTTP/1.1</td>\n      <td>404 3100</td>\n      <td>-</td>\n    </tr>\n    <tr>\n      <th>23</th>\n      <td>www.akumenius.com 66.249.76.216 - - [23/Feb/2014:03:10:33 +0100] \"GET /hoteles-baratos/ofertas-hotel-Metropolis-Hotel-en-Kaunas-210244b-destinos.html HTTP/1.1\" 404 3100 \"-\" \"Mozilla/5.0 (compatible; Googlebot/2.1; +http://www.google.com/bot.html)\" VLOG=-</td>\n      <td>www.akumenius.com</td>\n      <td>66.249.76.216</td>\n      <td>23/Feb/2014:03:10:33 +0100</td>\n      <td>GET /hoteles-baratos/ofertas-hotel-Metropolis-Hotel-en-Kaunas-210244b-destinos.html HTTP/1.1</td>\n      <td>404 3100</td>\n      <td>-</td>\n    </tr>\n    <tr>\n      <th>24</th>\n      <td>www.akumenius.com 66.249.76.216 - - [23/Feb/2014:03:10:35 +0100] \"GET /hoteles-baratos/ofertas-hotel-Faena-Hotel-Buenos-Aires-en-Downtown-129723b-destinos.html HTTP/1.1\" 404 3100 \"-\" \"Mozilla/5.0 (compatible; Googlebot/2.1; +http://www.google.com/bot.html)\" VLOG=-</td>\n      <td>www.akumenius.com</td>\n      <td>66.249.76.216</td>\n      <td>23/Feb/2014:03:10:35 +0100</td>\n      <td>GET /hoteles-baratos/ofertas-hotel-Faena-Hotel-Buenos-Aires-en-Downtown-129723b-destinos.html HTTP/1.1</td>\n      <td>404 3100</td>\n      <td>-</td>\n    </tr>\n    <tr>\n      <th>25</th>\n      <td>www.akumenius.com 66.249.76.216 - - [23/Feb/2014:03:10:38 +0100] \"GET /hoteles-baratos/ofertas-hotel-Kensington-Townhouse-London-en-Kensington-54356b-destinos.html HTTP/1.1\" 404 3100 \"-\" \"Mozilla/5.0 (compatible; Googlebot/2.1; +http://www.google.com/bot.html)\" VLOG=-</td>\n      <td>www.akumenius.com</td>\n      <td>66.249.76.216</td>\n      <td>23/Feb/2014:03:10:38 +0100</td>\n      <td>GET /hoteles-baratos/ofertas-hotel-Kensington-Townhouse-London-en-Kensington-54356b-destinos.html HTTP/1.1</td>\n      <td>404 3100</td>\n      <td>-</td>\n    </tr>\n  </tbody>\n</table>\n</div>"
                    },
                    "metadata": {},
                    "execution_count": 9
                }
            ],
            "metadata": {}
        },
        {
            "cell_type": "code",
            "execution_count": 10,
            "source": [
                "# Creació d'una nova columna, de nom 'navegador', que enmagatzemarà el navegador usat per visitar la pàgina\r\n",
                "# Aquesta informació está dins la desena 'columna' de 'columnes'\r\n",
                "data_table[\"Web_browser\"] = data_cols.map(lambda column: column[10] if len(column) >= 11 else \"\")\r\n",
                "# Display of data from row 15 to row 25\r\n",
                "data_table.loc[15:25,:]"
            ],
            "outputs": [
                {
                    "output_type": "execute_result",
                    "data": {
                        "text/plain": [
                            "                                                                                                                                                                                                                                                              Single_Data_Column  \\\n",
                            "15                                                                                                                                               localhost 127.0.0.1 - - [23/Feb/2014:03:10:31 +0100] \"OPTIONS * HTTP/1.0\" 200 - \"-\" \"Apache (internal dummy connection)\" VLOG=-   \n",
                            "16                                                                                                                                               localhost 127.0.0.1 - - [23/Feb/2014:03:10:31 +0100] \"OPTIONS * HTTP/1.0\" 200 - \"-\" \"Apache (internal dummy connection)\" VLOG=-   \n",
                            "17                                                                                                                                               localhost 127.0.0.1 - - [23/Feb/2014:03:10:31 +0100] \"OPTIONS * HTTP/1.0\" 200 - \"-\" \"Apache (internal dummy connection)\" VLOG=-   \n",
                            "18                                                                                                                                               localhost 127.0.0.1 - - [23/Feb/2014:03:10:31 +0100] \"OPTIONS * HTTP/1.0\" 200 - \"-\" \"Apache (internal dummy connection)\" VLOG=-   \n",
                            "19                                                                                                                                               localhost 127.0.0.1 - - [23/Feb/2014:03:10:31 +0100] \"OPTIONS * HTTP/1.0\" 200 - \"-\" \"Apache (internal dummy connection)\" VLOG=-   \n",
                            "20                                                                                                                                               localhost 127.0.0.1 - - [23/Feb/2014:03:10:31 +0100] \"OPTIONS * HTTP/1.0\" 200 - \"-\" \"Apache (internal dummy connection)\" VLOG=-   \n",
                            "21                                                                                                                                               localhost 127.0.0.1 - - [23/Feb/2014:03:10:31 +0100] \"OPTIONS * HTTP/1.0\" 200 - \"-\" \"Apache (internal dummy connection)\" VLOG=-   \n",
                            "22           www.akumenius.com 66.249.76.216 - - [23/Feb/2014:03:10:31 +0100] \"GET /hoteles-baratos/ofertas-hotel-Club-&-Hotel-Letoonia--en-Fethiye-8460b-destinos.html HTTP/1.1\" 404 3100 \"-\" \"Mozilla/5.0 (compatible; Googlebot/2.1; +http://www.google.com/bot.html)\" VLOG=-   \n",
                            "23                www.akumenius.com 66.249.76.216 - - [23/Feb/2014:03:10:33 +0100] \"GET /hoteles-baratos/ofertas-hotel-Metropolis-Hotel-en-Kaunas-210244b-destinos.html HTTP/1.1\" 404 3100 \"-\" \"Mozilla/5.0 (compatible; Googlebot/2.1; +http://www.google.com/bot.html)\" VLOG=-   \n",
                            "24      www.akumenius.com 66.249.76.216 - - [23/Feb/2014:03:10:35 +0100] \"GET /hoteles-baratos/ofertas-hotel-Faena-Hotel-Buenos-Aires-en-Downtown-129723b-destinos.html HTTP/1.1\" 404 3100 \"-\" \"Mozilla/5.0 (compatible; Googlebot/2.1; +http://www.google.com/bot.html)\" VLOG=-   \n",
                            "25  www.akumenius.com 66.249.76.216 - - [23/Feb/2014:03:10:38 +0100] \"GET /hoteles-baratos/ofertas-hotel-Kensington-Townhouse-London-en-Kensington-54356b-destinos.html HTTP/1.1\" 404 3100 \"-\" \"Mozilla/5.0 (compatible; Googlebot/2.1; +http://www.google.com/bot.html)\" VLOG=-   \n",
                            "\n",
                            "             Web_Site     IP_Address               Date_and_Time  \\\n",
                            "15          localhost      127.0.0.1  23/Feb/2014:03:10:31 +0100   \n",
                            "16          localhost      127.0.0.1  23/Feb/2014:03:10:31 +0100   \n",
                            "17          localhost      127.0.0.1  23/Feb/2014:03:10:31 +0100   \n",
                            "18          localhost      127.0.0.1  23/Feb/2014:03:10:31 +0100   \n",
                            "19          localhost      127.0.0.1  23/Feb/2014:03:10:31 +0100   \n",
                            "20          localhost      127.0.0.1  23/Feb/2014:03:10:31 +0100   \n",
                            "21          localhost      127.0.0.1  23/Feb/2014:03:10:31 +0100   \n",
                            "22  www.akumenius.com  66.249.76.216  23/Feb/2014:03:10:31 +0100   \n",
                            "23  www.akumenius.com  66.249.76.216  23/Feb/2014:03:10:33 +0100   \n",
                            "24  www.akumenius.com  66.249.76.216  23/Feb/2014:03:10:35 +0100   \n",
                            "25  www.akumenius.com  66.249.76.216  23/Feb/2014:03:10:38 +0100   \n",
                            "\n",
                            "                                                                                                           Get  \\\n",
                            "15                                                                                          OPTIONS * HTTP/1.0   \n",
                            "16                                                                                          OPTIONS * HTTP/1.0   \n",
                            "17                                                                                          OPTIONS * HTTP/1.0   \n",
                            "18                                                                                          OPTIONS * HTTP/1.0   \n",
                            "19                                                                                          OPTIONS * HTTP/1.0   \n",
                            "20                                                                                          OPTIONS * HTTP/1.0   \n",
                            "21                                                                                          OPTIONS * HTTP/1.0   \n",
                            "22           GET /hoteles-baratos/ofertas-hotel-Club-&-Hotel-Letoonia--en-Fethiye-8460b-destinos.html HTTP/1.1   \n",
                            "23                GET /hoteles-baratos/ofertas-hotel-Metropolis-Hotel-en-Kaunas-210244b-destinos.html HTTP/1.1   \n",
                            "24      GET /hoteles-baratos/ofertas-hotel-Faena-Hotel-Buenos-Aires-en-Downtown-129723b-destinos.html HTTP/1.1   \n",
                            "25  GET /hoteles-baratos/ofertas-hotel-Kensington-Townhouse-London-en-Kensington-54356b-destinos.html HTTP/1.1   \n",
                            "\n",
                            "       Numbers Page  \\\n",
                            "15      200 -     -   \n",
                            "16      200 -     -   \n",
                            "17      200 -     -   \n",
                            "18      200 -     -   \n",
                            "19      200 -     -   \n",
                            "20      200 -     -   \n",
                            "21      200 -     -   \n",
                            "22   404 3100     -   \n",
                            "23   404 3100     -   \n",
                            "24   404 3100     -   \n",
                            "25   404 3100     -   \n",
                            "\n",
                            "                                                                 Web_browser  \n",
                            "15                                        Apache (internal dummy connection)  \n",
                            "16                                        Apache (internal dummy connection)  \n",
                            "17                                        Apache (internal dummy connection)  \n",
                            "18                                        Apache (internal dummy connection)  \n",
                            "19                                        Apache (internal dummy connection)  \n",
                            "20                                        Apache (internal dummy connection)  \n",
                            "21                                        Apache (internal dummy connection)  \n",
                            "22  Mozilla/5.0 (compatible; Googlebot/2.1; +http://www.google.com/bot.html)  \n",
                            "23  Mozilla/5.0 (compatible; Googlebot/2.1; +http://www.google.com/bot.html)  \n",
                            "24  Mozilla/5.0 (compatible; Googlebot/2.1; +http://www.google.com/bot.html)  \n",
                            "25  Mozilla/5.0 (compatible; Googlebot/2.1; +http://www.google.com/bot.html)  "
                        ],
                        "text/html": "<div>\n<style scoped>\n    .dataframe tbody tr th:only-of-type {\n        vertical-align: middle;\n    }\n\n    .dataframe tbody tr th {\n        vertical-align: top;\n    }\n\n    .dataframe thead th {\n        text-align: right;\n    }\n</style>\n<table border=\"1\" class=\"dataframe\">\n  <thead>\n    <tr style=\"text-align: right;\">\n      <th></th>\n      <th>Single_Data_Column</th>\n      <th>Web_Site</th>\n      <th>IP_Address</th>\n      <th>Date_and_Time</th>\n      <th>Get</th>\n      <th>Numbers</th>\n      <th>Page</th>\n      <th>Web_browser</th>\n    </tr>\n  </thead>\n  <tbody>\n    <tr>\n      <th>15</th>\n      <td>localhost 127.0.0.1 - - [23/Feb/2014:03:10:31 +0100] \"OPTIONS * HTTP/1.0\" 200 - \"-\" \"Apache (internal dummy connection)\" VLOG=-</td>\n      <td>localhost</td>\n      <td>127.0.0.1</td>\n      <td>23/Feb/2014:03:10:31 +0100</td>\n      <td>OPTIONS * HTTP/1.0</td>\n      <td>200 -</td>\n      <td>-</td>\n      <td>Apache (internal dummy connection)</td>\n    </tr>\n    <tr>\n      <th>16</th>\n      <td>localhost 127.0.0.1 - - [23/Feb/2014:03:10:31 +0100] \"OPTIONS * HTTP/1.0\" 200 - \"-\" \"Apache (internal dummy connection)\" VLOG=-</td>\n      <td>localhost</td>\n      <td>127.0.0.1</td>\n      <td>23/Feb/2014:03:10:31 +0100</td>\n      <td>OPTIONS * HTTP/1.0</td>\n      <td>200 -</td>\n      <td>-</td>\n      <td>Apache (internal dummy connection)</td>\n    </tr>\n    <tr>\n      <th>17</th>\n      <td>localhost 127.0.0.1 - - [23/Feb/2014:03:10:31 +0100] \"OPTIONS * HTTP/1.0\" 200 - \"-\" \"Apache (internal dummy connection)\" VLOG=-</td>\n      <td>localhost</td>\n      <td>127.0.0.1</td>\n      <td>23/Feb/2014:03:10:31 +0100</td>\n      <td>OPTIONS * HTTP/1.0</td>\n      <td>200 -</td>\n      <td>-</td>\n      <td>Apache (internal dummy connection)</td>\n    </tr>\n    <tr>\n      <th>18</th>\n      <td>localhost 127.0.0.1 - - [23/Feb/2014:03:10:31 +0100] \"OPTIONS * HTTP/1.0\" 200 - \"-\" \"Apache (internal dummy connection)\" VLOG=-</td>\n      <td>localhost</td>\n      <td>127.0.0.1</td>\n      <td>23/Feb/2014:03:10:31 +0100</td>\n      <td>OPTIONS * HTTP/1.0</td>\n      <td>200 -</td>\n      <td>-</td>\n      <td>Apache (internal dummy connection)</td>\n    </tr>\n    <tr>\n      <th>19</th>\n      <td>localhost 127.0.0.1 - - [23/Feb/2014:03:10:31 +0100] \"OPTIONS * HTTP/1.0\" 200 - \"-\" \"Apache (internal dummy connection)\" VLOG=-</td>\n      <td>localhost</td>\n      <td>127.0.0.1</td>\n      <td>23/Feb/2014:03:10:31 +0100</td>\n      <td>OPTIONS * HTTP/1.0</td>\n      <td>200 -</td>\n      <td>-</td>\n      <td>Apache (internal dummy connection)</td>\n    </tr>\n    <tr>\n      <th>20</th>\n      <td>localhost 127.0.0.1 - - [23/Feb/2014:03:10:31 +0100] \"OPTIONS * HTTP/1.0\" 200 - \"-\" \"Apache (internal dummy connection)\" VLOG=-</td>\n      <td>localhost</td>\n      <td>127.0.0.1</td>\n      <td>23/Feb/2014:03:10:31 +0100</td>\n      <td>OPTIONS * HTTP/1.0</td>\n      <td>200 -</td>\n      <td>-</td>\n      <td>Apache (internal dummy connection)</td>\n    </tr>\n    <tr>\n      <th>21</th>\n      <td>localhost 127.0.0.1 - - [23/Feb/2014:03:10:31 +0100] \"OPTIONS * HTTP/1.0\" 200 - \"-\" \"Apache (internal dummy connection)\" VLOG=-</td>\n      <td>localhost</td>\n      <td>127.0.0.1</td>\n      <td>23/Feb/2014:03:10:31 +0100</td>\n      <td>OPTIONS * HTTP/1.0</td>\n      <td>200 -</td>\n      <td>-</td>\n      <td>Apache (internal dummy connection)</td>\n    </tr>\n    <tr>\n      <th>22</th>\n      <td>www.akumenius.com 66.249.76.216 - - [23/Feb/2014:03:10:31 +0100] \"GET /hoteles-baratos/ofertas-hotel-Club-&amp;-Hotel-Letoonia--en-Fethiye-8460b-destinos.html HTTP/1.1\" 404 3100 \"-\" \"Mozilla/5.0 (compatible; Googlebot/2.1; +http://www.google.com/bot.html)\" VLOG=-</td>\n      <td>www.akumenius.com</td>\n      <td>66.249.76.216</td>\n      <td>23/Feb/2014:03:10:31 +0100</td>\n      <td>GET /hoteles-baratos/ofertas-hotel-Club-&amp;-Hotel-Letoonia--en-Fethiye-8460b-destinos.html HTTP/1.1</td>\n      <td>404 3100</td>\n      <td>-</td>\n      <td>Mozilla/5.0 (compatible; Googlebot/2.1; +http://www.google.com/bot.html)</td>\n    </tr>\n    <tr>\n      <th>23</th>\n      <td>www.akumenius.com 66.249.76.216 - - [23/Feb/2014:03:10:33 +0100] \"GET /hoteles-baratos/ofertas-hotel-Metropolis-Hotel-en-Kaunas-210244b-destinos.html HTTP/1.1\" 404 3100 \"-\" \"Mozilla/5.0 (compatible; Googlebot/2.1; +http://www.google.com/bot.html)\" VLOG=-</td>\n      <td>www.akumenius.com</td>\n      <td>66.249.76.216</td>\n      <td>23/Feb/2014:03:10:33 +0100</td>\n      <td>GET /hoteles-baratos/ofertas-hotel-Metropolis-Hotel-en-Kaunas-210244b-destinos.html HTTP/1.1</td>\n      <td>404 3100</td>\n      <td>-</td>\n      <td>Mozilla/5.0 (compatible; Googlebot/2.1; +http://www.google.com/bot.html)</td>\n    </tr>\n    <tr>\n      <th>24</th>\n      <td>www.akumenius.com 66.249.76.216 - - [23/Feb/2014:03:10:35 +0100] \"GET /hoteles-baratos/ofertas-hotel-Faena-Hotel-Buenos-Aires-en-Downtown-129723b-destinos.html HTTP/1.1\" 404 3100 \"-\" \"Mozilla/5.0 (compatible; Googlebot/2.1; +http://www.google.com/bot.html)\" VLOG=-</td>\n      <td>www.akumenius.com</td>\n      <td>66.249.76.216</td>\n      <td>23/Feb/2014:03:10:35 +0100</td>\n      <td>GET /hoteles-baratos/ofertas-hotel-Faena-Hotel-Buenos-Aires-en-Downtown-129723b-destinos.html HTTP/1.1</td>\n      <td>404 3100</td>\n      <td>-</td>\n      <td>Mozilla/5.0 (compatible; Googlebot/2.1; +http://www.google.com/bot.html)</td>\n    </tr>\n    <tr>\n      <th>25</th>\n      <td>www.akumenius.com 66.249.76.216 - - [23/Feb/2014:03:10:38 +0100] \"GET /hoteles-baratos/ofertas-hotel-Kensington-Townhouse-London-en-Kensington-54356b-destinos.html HTTP/1.1\" 404 3100 \"-\" \"Mozilla/5.0 (compatible; Googlebot/2.1; +http://www.google.com/bot.html)\" VLOG=-</td>\n      <td>www.akumenius.com</td>\n      <td>66.249.76.216</td>\n      <td>23/Feb/2014:03:10:38 +0100</td>\n      <td>GET /hoteles-baratos/ofertas-hotel-Kensington-Townhouse-London-en-Kensington-54356b-destinos.html HTTP/1.1</td>\n      <td>404 3100</td>\n      <td>-</td>\n      <td>Mozilla/5.0 (compatible; Googlebot/2.1; +http://www.google.com/bot.html)</td>\n    </tr>\n  </tbody>\n</table>\n</div>"
                    },
                    "metadata": {},
                    "execution_count": 10
                }
            ],
            "metadata": {}
        },
        {
            "cell_type": "markdown",
            "source": [
                "**Nivell 2**\r\n",
                "\r\n",
                "- Exercici 2\r\n",
                "\r\n",
                "Neteja, preprocesa, estructura i transforma (dataframe) les dades del registre d'Accés a la web."
            ],
            "metadata": {}
        },
        {
            "cell_type": "code",
            "execution_count": 11,
            "source": [
                "# Creació de tres noves columnes, de nom 'data', 'hora' i 'fus_horari', que enmagatzemaran la data, hora i fus horari de visita\r\n",
                "# Aquesta informació está dins la columna 'data_hora'\r\n",
                "data_table.insert(4,\"Date\", data_table[\"Date_and_Time\"].apply(lambda k: k.split(\":\",1)[0]))\r\n",
                "data_table.insert(5,\"Time\", data_table[\"Date_and_Time\"].apply(lambda k: k.split(\":\",1)[1]))\r\n",
                "data_table.insert(6,\"Time_Zone\",data_table[\"Time\"].apply(lambda k: k.split(\" \",1)[1]))\r\n",
                "data_table[\"Time\"] = data_table[\"Time\"].apply(lambda k: k.split(\" \",1)[0])\r\n",
                "# Eliminem la columna 'data_hora'\r\n",
                "data_table = data_table.drop(\"Date_and_Time\", axis = 1)\r\n",
                "# Display of data from row 15 to row 25\r\n",
                "data_table.loc[15:25,:]"
            ],
            "outputs": [
                {
                    "output_type": "execute_result",
                    "data": {
                        "text/plain": [
                            "                                                                                                                                                                                                                                                              Single_Data_Column  \\\n",
                            "15                                                                                                                                               localhost 127.0.0.1 - - [23/Feb/2014:03:10:31 +0100] \"OPTIONS * HTTP/1.0\" 200 - \"-\" \"Apache (internal dummy connection)\" VLOG=-   \n",
                            "16                                                                                                                                               localhost 127.0.0.1 - - [23/Feb/2014:03:10:31 +0100] \"OPTIONS * HTTP/1.0\" 200 - \"-\" \"Apache (internal dummy connection)\" VLOG=-   \n",
                            "17                                                                                                                                               localhost 127.0.0.1 - - [23/Feb/2014:03:10:31 +0100] \"OPTIONS * HTTP/1.0\" 200 - \"-\" \"Apache (internal dummy connection)\" VLOG=-   \n",
                            "18                                                                                                                                               localhost 127.0.0.1 - - [23/Feb/2014:03:10:31 +0100] \"OPTIONS * HTTP/1.0\" 200 - \"-\" \"Apache (internal dummy connection)\" VLOG=-   \n",
                            "19                                                                                                                                               localhost 127.0.0.1 - - [23/Feb/2014:03:10:31 +0100] \"OPTIONS * HTTP/1.0\" 200 - \"-\" \"Apache (internal dummy connection)\" VLOG=-   \n",
                            "20                                                                                                                                               localhost 127.0.0.1 - - [23/Feb/2014:03:10:31 +0100] \"OPTIONS * HTTP/1.0\" 200 - \"-\" \"Apache (internal dummy connection)\" VLOG=-   \n",
                            "21                                                                                                                                               localhost 127.0.0.1 - - [23/Feb/2014:03:10:31 +0100] \"OPTIONS * HTTP/1.0\" 200 - \"-\" \"Apache (internal dummy connection)\" VLOG=-   \n",
                            "22           www.akumenius.com 66.249.76.216 - - [23/Feb/2014:03:10:31 +0100] \"GET /hoteles-baratos/ofertas-hotel-Club-&-Hotel-Letoonia--en-Fethiye-8460b-destinos.html HTTP/1.1\" 404 3100 \"-\" \"Mozilla/5.0 (compatible; Googlebot/2.1; +http://www.google.com/bot.html)\" VLOG=-   \n",
                            "23                www.akumenius.com 66.249.76.216 - - [23/Feb/2014:03:10:33 +0100] \"GET /hoteles-baratos/ofertas-hotel-Metropolis-Hotel-en-Kaunas-210244b-destinos.html HTTP/1.1\" 404 3100 \"-\" \"Mozilla/5.0 (compatible; Googlebot/2.1; +http://www.google.com/bot.html)\" VLOG=-   \n",
                            "24      www.akumenius.com 66.249.76.216 - - [23/Feb/2014:03:10:35 +0100] \"GET /hoteles-baratos/ofertas-hotel-Faena-Hotel-Buenos-Aires-en-Downtown-129723b-destinos.html HTTP/1.1\" 404 3100 \"-\" \"Mozilla/5.0 (compatible; Googlebot/2.1; +http://www.google.com/bot.html)\" VLOG=-   \n",
                            "25  www.akumenius.com 66.249.76.216 - - [23/Feb/2014:03:10:38 +0100] \"GET /hoteles-baratos/ofertas-hotel-Kensington-Townhouse-London-en-Kensington-54356b-destinos.html HTTP/1.1\" 404 3100 \"-\" \"Mozilla/5.0 (compatible; Googlebot/2.1; +http://www.google.com/bot.html)\" VLOG=-   \n",
                            "\n",
                            "             Web_Site     IP_Address         Date      Time Time_Zone  \\\n",
                            "15          localhost      127.0.0.1  23/Feb/2014  03:10:31     +0100   \n",
                            "16          localhost      127.0.0.1  23/Feb/2014  03:10:31     +0100   \n",
                            "17          localhost      127.0.0.1  23/Feb/2014  03:10:31     +0100   \n",
                            "18          localhost      127.0.0.1  23/Feb/2014  03:10:31     +0100   \n",
                            "19          localhost      127.0.0.1  23/Feb/2014  03:10:31     +0100   \n",
                            "20          localhost      127.0.0.1  23/Feb/2014  03:10:31     +0100   \n",
                            "21          localhost      127.0.0.1  23/Feb/2014  03:10:31     +0100   \n",
                            "22  www.akumenius.com  66.249.76.216  23/Feb/2014  03:10:31     +0100   \n",
                            "23  www.akumenius.com  66.249.76.216  23/Feb/2014  03:10:33     +0100   \n",
                            "24  www.akumenius.com  66.249.76.216  23/Feb/2014  03:10:35     +0100   \n",
                            "25  www.akumenius.com  66.249.76.216  23/Feb/2014  03:10:38     +0100   \n",
                            "\n",
                            "                                                                                                           Get  \\\n",
                            "15                                                                                          OPTIONS * HTTP/1.0   \n",
                            "16                                                                                          OPTIONS * HTTP/1.0   \n",
                            "17                                                                                          OPTIONS * HTTP/1.0   \n",
                            "18                                                                                          OPTIONS * HTTP/1.0   \n",
                            "19                                                                                          OPTIONS * HTTP/1.0   \n",
                            "20                                                                                          OPTIONS * HTTP/1.0   \n",
                            "21                                                                                          OPTIONS * HTTP/1.0   \n",
                            "22           GET /hoteles-baratos/ofertas-hotel-Club-&-Hotel-Letoonia--en-Fethiye-8460b-destinos.html HTTP/1.1   \n",
                            "23                GET /hoteles-baratos/ofertas-hotel-Metropolis-Hotel-en-Kaunas-210244b-destinos.html HTTP/1.1   \n",
                            "24      GET /hoteles-baratos/ofertas-hotel-Faena-Hotel-Buenos-Aires-en-Downtown-129723b-destinos.html HTTP/1.1   \n",
                            "25  GET /hoteles-baratos/ofertas-hotel-Kensington-Townhouse-London-en-Kensington-54356b-destinos.html HTTP/1.1   \n",
                            "\n",
                            "       Numbers Page  \\\n",
                            "15      200 -     -   \n",
                            "16      200 -     -   \n",
                            "17      200 -     -   \n",
                            "18      200 -     -   \n",
                            "19      200 -     -   \n",
                            "20      200 -     -   \n",
                            "21      200 -     -   \n",
                            "22   404 3100     -   \n",
                            "23   404 3100     -   \n",
                            "24   404 3100     -   \n",
                            "25   404 3100     -   \n",
                            "\n",
                            "                                                                 Web_browser  \n",
                            "15                                        Apache (internal dummy connection)  \n",
                            "16                                        Apache (internal dummy connection)  \n",
                            "17                                        Apache (internal dummy connection)  \n",
                            "18                                        Apache (internal dummy connection)  \n",
                            "19                                        Apache (internal dummy connection)  \n",
                            "20                                        Apache (internal dummy connection)  \n",
                            "21                                        Apache (internal dummy connection)  \n",
                            "22  Mozilla/5.0 (compatible; Googlebot/2.1; +http://www.google.com/bot.html)  \n",
                            "23  Mozilla/5.0 (compatible; Googlebot/2.1; +http://www.google.com/bot.html)  \n",
                            "24  Mozilla/5.0 (compatible; Googlebot/2.1; +http://www.google.com/bot.html)  \n",
                            "25  Mozilla/5.0 (compatible; Googlebot/2.1; +http://www.google.com/bot.html)  "
                        ],
                        "text/html": "<div>\n<style scoped>\n    .dataframe tbody tr th:only-of-type {\n        vertical-align: middle;\n    }\n\n    .dataframe tbody tr th {\n        vertical-align: top;\n    }\n\n    .dataframe thead th {\n        text-align: right;\n    }\n</style>\n<table border=\"1\" class=\"dataframe\">\n  <thead>\n    <tr style=\"text-align: right;\">\n      <th></th>\n      <th>Single_Data_Column</th>\n      <th>Web_Site</th>\n      <th>IP_Address</th>\n      <th>Date</th>\n      <th>Time</th>\n      <th>Time_Zone</th>\n      <th>Get</th>\n      <th>Numbers</th>\n      <th>Page</th>\n      <th>Web_browser</th>\n    </tr>\n  </thead>\n  <tbody>\n    <tr>\n      <th>15</th>\n      <td>localhost 127.0.0.1 - - [23/Feb/2014:03:10:31 +0100] \"OPTIONS * HTTP/1.0\" 200 - \"-\" \"Apache (internal dummy connection)\" VLOG=-</td>\n      <td>localhost</td>\n      <td>127.0.0.1</td>\n      <td>23/Feb/2014</td>\n      <td>03:10:31</td>\n      <td>+0100</td>\n      <td>OPTIONS * HTTP/1.0</td>\n      <td>200 -</td>\n      <td>-</td>\n      <td>Apache (internal dummy connection)</td>\n    </tr>\n    <tr>\n      <th>16</th>\n      <td>localhost 127.0.0.1 - - [23/Feb/2014:03:10:31 +0100] \"OPTIONS * HTTP/1.0\" 200 - \"-\" \"Apache (internal dummy connection)\" VLOG=-</td>\n      <td>localhost</td>\n      <td>127.0.0.1</td>\n      <td>23/Feb/2014</td>\n      <td>03:10:31</td>\n      <td>+0100</td>\n      <td>OPTIONS * HTTP/1.0</td>\n      <td>200 -</td>\n      <td>-</td>\n      <td>Apache (internal dummy connection)</td>\n    </tr>\n    <tr>\n      <th>17</th>\n      <td>localhost 127.0.0.1 - - [23/Feb/2014:03:10:31 +0100] \"OPTIONS * HTTP/1.0\" 200 - \"-\" \"Apache (internal dummy connection)\" VLOG=-</td>\n      <td>localhost</td>\n      <td>127.0.0.1</td>\n      <td>23/Feb/2014</td>\n      <td>03:10:31</td>\n      <td>+0100</td>\n      <td>OPTIONS * HTTP/1.0</td>\n      <td>200 -</td>\n      <td>-</td>\n      <td>Apache (internal dummy connection)</td>\n    </tr>\n    <tr>\n      <th>18</th>\n      <td>localhost 127.0.0.1 - - [23/Feb/2014:03:10:31 +0100] \"OPTIONS * HTTP/1.0\" 200 - \"-\" \"Apache (internal dummy connection)\" VLOG=-</td>\n      <td>localhost</td>\n      <td>127.0.0.1</td>\n      <td>23/Feb/2014</td>\n      <td>03:10:31</td>\n      <td>+0100</td>\n      <td>OPTIONS * HTTP/1.0</td>\n      <td>200 -</td>\n      <td>-</td>\n      <td>Apache (internal dummy connection)</td>\n    </tr>\n    <tr>\n      <th>19</th>\n      <td>localhost 127.0.0.1 - - [23/Feb/2014:03:10:31 +0100] \"OPTIONS * HTTP/1.0\" 200 - \"-\" \"Apache (internal dummy connection)\" VLOG=-</td>\n      <td>localhost</td>\n      <td>127.0.0.1</td>\n      <td>23/Feb/2014</td>\n      <td>03:10:31</td>\n      <td>+0100</td>\n      <td>OPTIONS * HTTP/1.0</td>\n      <td>200 -</td>\n      <td>-</td>\n      <td>Apache (internal dummy connection)</td>\n    </tr>\n    <tr>\n      <th>20</th>\n      <td>localhost 127.0.0.1 - - [23/Feb/2014:03:10:31 +0100] \"OPTIONS * HTTP/1.0\" 200 - \"-\" \"Apache (internal dummy connection)\" VLOG=-</td>\n      <td>localhost</td>\n      <td>127.0.0.1</td>\n      <td>23/Feb/2014</td>\n      <td>03:10:31</td>\n      <td>+0100</td>\n      <td>OPTIONS * HTTP/1.0</td>\n      <td>200 -</td>\n      <td>-</td>\n      <td>Apache (internal dummy connection)</td>\n    </tr>\n    <tr>\n      <th>21</th>\n      <td>localhost 127.0.0.1 - - [23/Feb/2014:03:10:31 +0100] \"OPTIONS * HTTP/1.0\" 200 - \"-\" \"Apache (internal dummy connection)\" VLOG=-</td>\n      <td>localhost</td>\n      <td>127.0.0.1</td>\n      <td>23/Feb/2014</td>\n      <td>03:10:31</td>\n      <td>+0100</td>\n      <td>OPTIONS * HTTP/1.0</td>\n      <td>200 -</td>\n      <td>-</td>\n      <td>Apache (internal dummy connection)</td>\n    </tr>\n    <tr>\n      <th>22</th>\n      <td>www.akumenius.com 66.249.76.216 - - [23/Feb/2014:03:10:31 +0100] \"GET /hoteles-baratos/ofertas-hotel-Club-&amp;-Hotel-Letoonia--en-Fethiye-8460b-destinos.html HTTP/1.1\" 404 3100 \"-\" \"Mozilla/5.0 (compatible; Googlebot/2.1; +http://www.google.com/bot.html)\" VLOG=-</td>\n      <td>www.akumenius.com</td>\n      <td>66.249.76.216</td>\n      <td>23/Feb/2014</td>\n      <td>03:10:31</td>\n      <td>+0100</td>\n      <td>GET /hoteles-baratos/ofertas-hotel-Club-&amp;-Hotel-Letoonia--en-Fethiye-8460b-destinos.html HTTP/1.1</td>\n      <td>404 3100</td>\n      <td>-</td>\n      <td>Mozilla/5.0 (compatible; Googlebot/2.1; +http://www.google.com/bot.html)</td>\n    </tr>\n    <tr>\n      <th>23</th>\n      <td>www.akumenius.com 66.249.76.216 - - [23/Feb/2014:03:10:33 +0100] \"GET /hoteles-baratos/ofertas-hotel-Metropolis-Hotel-en-Kaunas-210244b-destinos.html HTTP/1.1\" 404 3100 \"-\" \"Mozilla/5.0 (compatible; Googlebot/2.1; +http://www.google.com/bot.html)\" VLOG=-</td>\n      <td>www.akumenius.com</td>\n      <td>66.249.76.216</td>\n      <td>23/Feb/2014</td>\n      <td>03:10:33</td>\n      <td>+0100</td>\n      <td>GET /hoteles-baratos/ofertas-hotel-Metropolis-Hotel-en-Kaunas-210244b-destinos.html HTTP/1.1</td>\n      <td>404 3100</td>\n      <td>-</td>\n      <td>Mozilla/5.0 (compatible; Googlebot/2.1; +http://www.google.com/bot.html)</td>\n    </tr>\n    <tr>\n      <th>24</th>\n      <td>www.akumenius.com 66.249.76.216 - - [23/Feb/2014:03:10:35 +0100] \"GET /hoteles-baratos/ofertas-hotel-Faena-Hotel-Buenos-Aires-en-Downtown-129723b-destinos.html HTTP/1.1\" 404 3100 \"-\" \"Mozilla/5.0 (compatible; Googlebot/2.1; +http://www.google.com/bot.html)\" VLOG=-</td>\n      <td>www.akumenius.com</td>\n      <td>66.249.76.216</td>\n      <td>23/Feb/2014</td>\n      <td>03:10:35</td>\n      <td>+0100</td>\n      <td>GET /hoteles-baratos/ofertas-hotel-Faena-Hotel-Buenos-Aires-en-Downtown-129723b-destinos.html HTTP/1.1</td>\n      <td>404 3100</td>\n      <td>-</td>\n      <td>Mozilla/5.0 (compatible; Googlebot/2.1; +http://www.google.com/bot.html)</td>\n    </tr>\n    <tr>\n      <th>25</th>\n      <td>www.akumenius.com 66.249.76.216 - - [23/Feb/2014:03:10:38 +0100] \"GET /hoteles-baratos/ofertas-hotel-Kensington-Townhouse-London-en-Kensington-54356b-destinos.html HTTP/1.1\" 404 3100 \"-\" \"Mozilla/5.0 (compatible; Googlebot/2.1; +http://www.google.com/bot.html)\" VLOG=-</td>\n      <td>www.akumenius.com</td>\n      <td>66.249.76.216</td>\n      <td>23/Feb/2014</td>\n      <td>03:10:38</td>\n      <td>+0100</td>\n      <td>GET /hoteles-baratos/ofertas-hotel-Kensington-Townhouse-London-en-Kensington-54356b-destinos.html HTTP/1.1</td>\n      <td>404 3100</td>\n      <td>-</td>\n      <td>Mozilla/5.0 (compatible; Googlebot/2.1; +http://www.google.com/bot.html)</td>\n    </tr>\n  </tbody>\n</table>\n</div>"
                    },
                    "metadata": {},
                    "execution_count": 11
                }
            ],
            "metadata": {}
        },
        {
            "cell_type": "code",
            "execution_count": 12,
            "source": [
                "# Creació de tres noves columnes, de nom 'tipus', 'peticio' i 'protocol'\r\n",
                "# Aquesta informació está dins la columna 'get'\r\n",
                "data_table.insert(9,\"Type\", data_table[\"Get\"].apply(lambda k: k.split(\" \")[0]))\r\n",
                "data_table.insert(10,\"Request\", data_table[\"Get\"].apply(lambda k: k.split(\" \")[1] if len(k.split(\" \")) ==3 else \"\"))\r\n",
                "data_table.insert(11,\"Protocol\", data_table[\"Get\"].apply(lambda k: k.split(\" \")[2] if len(k.split(\" \")) ==3 else \"\"))\r\n",
                "# The \"Get\" column is eliminated.\r\n",
                "data_table = data_table.drop(\"Get\", axis = 1)\r\n",
                "# Display of data from row 15 to row 25\r\n",
                "data_table.loc[15:25,:]"
            ],
            "outputs": [
                {
                    "output_type": "execute_result",
                    "data": {
                        "text/plain": [
                            "                                                                                                                                                                                                                                                              Single_Data_Column  \\\n",
                            "15                                                                                                                                               localhost 127.0.0.1 - - [23/Feb/2014:03:10:31 +0100] \"OPTIONS * HTTP/1.0\" 200 - \"-\" \"Apache (internal dummy connection)\" VLOG=-   \n",
                            "16                                                                                                                                               localhost 127.0.0.1 - - [23/Feb/2014:03:10:31 +0100] \"OPTIONS * HTTP/1.0\" 200 - \"-\" \"Apache (internal dummy connection)\" VLOG=-   \n",
                            "17                                                                                                                                               localhost 127.0.0.1 - - [23/Feb/2014:03:10:31 +0100] \"OPTIONS * HTTP/1.0\" 200 - \"-\" \"Apache (internal dummy connection)\" VLOG=-   \n",
                            "18                                                                                                                                               localhost 127.0.0.1 - - [23/Feb/2014:03:10:31 +0100] \"OPTIONS * HTTP/1.0\" 200 - \"-\" \"Apache (internal dummy connection)\" VLOG=-   \n",
                            "19                                                                                                                                               localhost 127.0.0.1 - - [23/Feb/2014:03:10:31 +0100] \"OPTIONS * HTTP/1.0\" 200 - \"-\" \"Apache (internal dummy connection)\" VLOG=-   \n",
                            "20                                                                                                                                               localhost 127.0.0.1 - - [23/Feb/2014:03:10:31 +0100] \"OPTIONS * HTTP/1.0\" 200 - \"-\" \"Apache (internal dummy connection)\" VLOG=-   \n",
                            "21                                                                                                                                               localhost 127.0.0.1 - - [23/Feb/2014:03:10:31 +0100] \"OPTIONS * HTTP/1.0\" 200 - \"-\" \"Apache (internal dummy connection)\" VLOG=-   \n",
                            "22           www.akumenius.com 66.249.76.216 - - [23/Feb/2014:03:10:31 +0100] \"GET /hoteles-baratos/ofertas-hotel-Club-&-Hotel-Letoonia--en-Fethiye-8460b-destinos.html HTTP/1.1\" 404 3100 \"-\" \"Mozilla/5.0 (compatible; Googlebot/2.1; +http://www.google.com/bot.html)\" VLOG=-   \n",
                            "23                www.akumenius.com 66.249.76.216 - - [23/Feb/2014:03:10:33 +0100] \"GET /hoteles-baratos/ofertas-hotel-Metropolis-Hotel-en-Kaunas-210244b-destinos.html HTTP/1.1\" 404 3100 \"-\" \"Mozilla/5.0 (compatible; Googlebot/2.1; +http://www.google.com/bot.html)\" VLOG=-   \n",
                            "24      www.akumenius.com 66.249.76.216 - - [23/Feb/2014:03:10:35 +0100] \"GET /hoteles-baratos/ofertas-hotel-Faena-Hotel-Buenos-Aires-en-Downtown-129723b-destinos.html HTTP/1.1\" 404 3100 \"-\" \"Mozilla/5.0 (compatible; Googlebot/2.1; +http://www.google.com/bot.html)\" VLOG=-   \n",
                            "25  www.akumenius.com 66.249.76.216 - - [23/Feb/2014:03:10:38 +0100] \"GET /hoteles-baratos/ofertas-hotel-Kensington-Townhouse-London-en-Kensington-54356b-destinos.html HTTP/1.1\" 404 3100 \"-\" \"Mozilla/5.0 (compatible; Googlebot/2.1; +http://www.google.com/bot.html)\" VLOG=-   \n",
                            "\n",
                            "             Web_Site     IP_Address         Date      Time Time_Zone  \\\n",
                            "15          localhost      127.0.0.1  23/Feb/2014  03:10:31     +0100   \n",
                            "16          localhost      127.0.0.1  23/Feb/2014  03:10:31     +0100   \n",
                            "17          localhost      127.0.0.1  23/Feb/2014  03:10:31     +0100   \n",
                            "18          localhost      127.0.0.1  23/Feb/2014  03:10:31     +0100   \n",
                            "19          localhost      127.0.0.1  23/Feb/2014  03:10:31     +0100   \n",
                            "20          localhost      127.0.0.1  23/Feb/2014  03:10:31     +0100   \n",
                            "21          localhost      127.0.0.1  23/Feb/2014  03:10:31     +0100   \n",
                            "22  www.akumenius.com  66.249.76.216  23/Feb/2014  03:10:31     +0100   \n",
                            "23  www.akumenius.com  66.249.76.216  23/Feb/2014  03:10:33     +0100   \n",
                            "24  www.akumenius.com  66.249.76.216  23/Feb/2014  03:10:35     +0100   \n",
                            "25  www.akumenius.com  66.249.76.216  23/Feb/2014  03:10:38     +0100   \n",
                            "\n",
                            "       Numbers Page     Type  \\\n",
                            "15      200 -     -  OPTIONS   \n",
                            "16      200 -     -  OPTIONS   \n",
                            "17      200 -     -  OPTIONS   \n",
                            "18      200 -     -  OPTIONS   \n",
                            "19      200 -     -  OPTIONS   \n",
                            "20      200 -     -  OPTIONS   \n",
                            "21      200 -     -  OPTIONS   \n",
                            "22   404 3100     -      GET   \n",
                            "23   404 3100     -      GET   \n",
                            "24   404 3100     -      GET   \n",
                            "25   404 3100     -      GET   \n",
                            "\n",
                            "                                                                                          Request  \\\n",
                            "15                                                                                              *   \n",
                            "16                                                                                              *   \n",
                            "17                                                                                              *   \n",
                            "18                                                                                              *   \n",
                            "19                                                                                              *   \n",
                            "20                                                                                              *   \n",
                            "21                                                                                              *   \n",
                            "22           /hoteles-baratos/ofertas-hotel-Club-&-Hotel-Letoonia--en-Fethiye-8460b-destinos.html   \n",
                            "23                /hoteles-baratos/ofertas-hotel-Metropolis-Hotel-en-Kaunas-210244b-destinos.html   \n",
                            "24      /hoteles-baratos/ofertas-hotel-Faena-Hotel-Buenos-Aires-en-Downtown-129723b-destinos.html   \n",
                            "25  /hoteles-baratos/ofertas-hotel-Kensington-Townhouse-London-en-Kensington-54356b-destinos.html   \n",
                            "\n",
                            "    Protocol  \\\n",
                            "15  HTTP/1.0   \n",
                            "16  HTTP/1.0   \n",
                            "17  HTTP/1.0   \n",
                            "18  HTTP/1.0   \n",
                            "19  HTTP/1.0   \n",
                            "20  HTTP/1.0   \n",
                            "21  HTTP/1.0   \n",
                            "22  HTTP/1.1   \n",
                            "23  HTTP/1.1   \n",
                            "24  HTTP/1.1   \n",
                            "25  HTTP/1.1   \n",
                            "\n",
                            "                                                                 Web_browser  \n",
                            "15                                        Apache (internal dummy connection)  \n",
                            "16                                        Apache (internal dummy connection)  \n",
                            "17                                        Apache (internal dummy connection)  \n",
                            "18                                        Apache (internal dummy connection)  \n",
                            "19                                        Apache (internal dummy connection)  \n",
                            "20                                        Apache (internal dummy connection)  \n",
                            "21                                        Apache (internal dummy connection)  \n",
                            "22  Mozilla/5.0 (compatible; Googlebot/2.1; +http://www.google.com/bot.html)  \n",
                            "23  Mozilla/5.0 (compatible; Googlebot/2.1; +http://www.google.com/bot.html)  \n",
                            "24  Mozilla/5.0 (compatible; Googlebot/2.1; +http://www.google.com/bot.html)  \n",
                            "25  Mozilla/5.0 (compatible; Googlebot/2.1; +http://www.google.com/bot.html)  "
                        ],
                        "text/html": "<div>\n<style scoped>\n    .dataframe tbody tr th:only-of-type {\n        vertical-align: middle;\n    }\n\n    .dataframe tbody tr th {\n        vertical-align: top;\n    }\n\n    .dataframe thead th {\n        text-align: right;\n    }\n</style>\n<table border=\"1\" class=\"dataframe\">\n  <thead>\n    <tr style=\"text-align: right;\">\n      <th></th>\n      <th>Single_Data_Column</th>\n      <th>Web_Site</th>\n      <th>IP_Address</th>\n      <th>Date</th>\n      <th>Time</th>\n      <th>Time_Zone</th>\n      <th>Numbers</th>\n      <th>Page</th>\n      <th>Type</th>\n      <th>Request</th>\n      <th>Protocol</th>\n      <th>Web_browser</th>\n    </tr>\n  </thead>\n  <tbody>\n    <tr>\n      <th>15</th>\n      <td>localhost 127.0.0.1 - - [23/Feb/2014:03:10:31 +0100] \"OPTIONS * HTTP/1.0\" 200 - \"-\" \"Apache (internal dummy connection)\" VLOG=-</td>\n      <td>localhost</td>\n      <td>127.0.0.1</td>\n      <td>23/Feb/2014</td>\n      <td>03:10:31</td>\n      <td>+0100</td>\n      <td>200 -</td>\n      <td>-</td>\n      <td>OPTIONS</td>\n      <td>*</td>\n      <td>HTTP/1.0</td>\n      <td>Apache (internal dummy connection)</td>\n    </tr>\n    <tr>\n      <th>16</th>\n      <td>localhost 127.0.0.1 - - [23/Feb/2014:03:10:31 +0100] \"OPTIONS * HTTP/1.0\" 200 - \"-\" \"Apache (internal dummy connection)\" VLOG=-</td>\n      <td>localhost</td>\n      <td>127.0.0.1</td>\n      <td>23/Feb/2014</td>\n      <td>03:10:31</td>\n      <td>+0100</td>\n      <td>200 -</td>\n      <td>-</td>\n      <td>OPTIONS</td>\n      <td>*</td>\n      <td>HTTP/1.0</td>\n      <td>Apache (internal dummy connection)</td>\n    </tr>\n    <tr>\n      <th>17</th>\n      <td>localhost 127.0.0.1 - - [23/Feb/2014:03:10:31 +0100] \"OPTIONS * HTTP/1.0\" 200 - \"-\" \"Apache (internal dummy connection)\" VLOG=-</td>\n      <td>localhost</td>\n      <td>127.0.0.1</td>\n      <td>23/Feb/2014</td>\n      <td>03:10:31</td>\n      <td>+0100</td>\n      <td>200 -</td>\n      <td>-</td>\n      <td>OPTIONS</td>\n      <td>*</td>\n      <td>HTTP/1.0</td>\n      <td>Apache (internal dummy connection)</td>\n    </tr>\n    <tr>\n      <th>18</th>\n      <td>localhost 127.0.0.1 - - [23/Feb/2014:03:10:31 +0100] \"OPTIONS * HTTP/1.0\" 200 - \"-\" \"Apache (internal dummy connection)\" VLOG=-</td>\n      <td>localhost</td>\n      <td>127.0.0.1</td>\n      <td>23/Feb/2014</td>\n      <td>03:10:31</td>\n      <td>+0100</td>\n      <td>200 -</td>\n      <td>-</td>\n      <td>OPTIONS</td>\n      <td>*</td>\n      <td>HTTP/1.0</td>\n      <td>Apache (internal dummy connection)</td>\n    </tr>\n    <tr>\n      <th>19</th>\n      <td>localhost 127.0.0.1 - - [23/Feb/2014:03:10:31 +0100] \"OPTIONS * HTTP/1.0\" 200 - \"-\" \"Apache (internal dummy connection)\" VLOG=-</td>\n      <td>localhost</td>\n      <td>127.0.0.1</td>\n      <td>23/Feb/2014</td>\n      <td>03:10:31</td>\n      <td>+0100</td>\n      <td>200 -</td>\n      <td>-</td>\n      <td>OPTIONS</td>\n      <td>*</td>\n      <td>HTTP/1.0</td>\n      <td>Apache (internal dummy connection)</td>\n    </tr>\n    <tr>\n      <th>20</th>\n      <td>localhost 127.0.0.1 - - [23/Feb/2014:03:10:31 +0100] \"OPTIONS * HTTP/1.0\" 200 - \"-\" \"Apache (internal dummy connection)\" VLOG=-</td>\n      <td>localhost</td>\n      <td>127.0.0.1</td>\n      <td>23/Feb/2014</td>\n      <td>03:10:31</td>\n      <td>+0100</td>\n      <td>200 -</td>\n      <td>-</td>\n      <td>OPTIONS</td>\n      <td>*</td>\n      <td>HTTP/1.0</td>\n      <td>Apache (internal dummy connection)</td>\n    </tr>\n    <tr>\n      <th>21</th>\n      <td>localhost 127.0.0.1 - - [23/Feb/2014:03:10:31 +0100] \"OPTIONS * HTTP/1.0\" 200 - \"-\" \"Apache (internal dummy connection)\" VLOG=-</td>\n      <td>localhost</td>\n      <td>127.0.0.1</td>\n      <td>23/Feb/2014</td>\n      <td>03:10:31</td>\n      <td>+0100</td>\n      <td>200 -</td>\n      <td>-</td>\n      <td>OPTIONS</td>\n      <td>*</td>\n      <td>HTTP/1.0</td>\n      <td>Apache (internal dummy connection)</td>\n    </tr>\n    <tr>\n      <th>22</th>\n      <td>www.akumenius.com 66.249.76.216 - - [23/Feb/2014:03:10:31 +0100] \"GET /hoteles-baratos/ofertas-hotel-Club-&amp;-Hotel-Letoonia--en-Fethiye-8460b-destinos.html HTTP/1.1\" 404 3100 \"-\" \"Mozilla/5.0 (compatible; Googlebot/2.1; +http://www.google.com/bot.html)\" VLOG=-</td>\n      <td>www.akumenius.com</td>\n      <td>66.249.76.216</td>\n      <td>23/Feb/2014</td>\n      <td>03:10:31</td>\n      <td>+0100</td>\n      <td>404 3100</td>\n      <td>-</td>\n      <td>GET</td>\n      <td>/hoteles-baratos/ofertas-hotel-Club-&amp;-Hotel-Letoonia--en-Fethiye-8460b-destinos.html</td>\n      <td>HTTP/1.1</td>\n      <td>Mozilla/5.0 (compatible; Googlebot/2.1; +http://www.google.com/bot.html)</td>\n    </tr>\n    <tr>\n      <th>23</th>\n      <td>www.akumenius.com 66.249.76.216 - - [23/Feb/2014:03:10:33 +0100] \"GET /hoteles-baratos/ofertas-hotel-Metropolis-Hotel-en-Kaunas-210244b-destinos.html HTTP/1.1\" 404 3100 \"-\" \"Mozilla/5.0 (compatible; Googlebot/2.1; +http://www.google.com/bot.html)\" VLOG=-</td>\n      <td>www.akumenius.com</td>\n      <td>66.249.76.216</td>\n      <td>23/Feb/2014</td>\n      <td>03:10:33</td>\n      <td>+0100</td>\n      <td>404 3100</td>\n      <td>-</td>\n      <td>GET</td>\n      <td>/hoteles-baratos/ofertas-hotel-Metropolis-Hotel-en-Kaunas-210244b-destinos.html</td>\n      <td>HTTP/1.1</td>\n      <td>Mozilla/5.0 (compatible; Googlebot/2.1; +http://www.google.com/bot.html)</td>\n    </tr>\n    <tr>\n      <th>24</th>\n      <td>www.akumenius.com 66.249.76.216 - - [23/Feb/2014:03:10:35 +0100] \"GET /hoteles-baratos/ofertas-hotel-Faena-Hotel-Buenos-Aires-en-Downtown-129723b-destinos.html HTTP/1.1\" 404 3100 \"-\" \"Mozilla/5.0 (compatible; Googlebot/2.1; +http://www.google.com/bot.html)\" VLOG=-</td>\n      <td>www.akumenius.com</td>\n      <td>66.249.76.216</td>\n      <td>23/Feb/2014</td>\n      <td>03:10:35</td>\n      <td>+0100</td>\n      <td>404 3100</td>\n      <td>-</td>\n      <td>GET</td>\n      <td>/hoteles-baratos/ofertas-hotel-Faena-Hotel-Buenos-Aires-en-Downtown-129723b-destinos.html</td>\n      <td>HTTP/1.1</td>\n      <td>Mozilla/5.0 (compatible; Googlebot/2.1; +http://www.google.com/bot.html)</td>\n    </tr>\n    <tr>\n      <th>25</th>\n      <td>www.akumenius.com 66.249.76.216 - - [23/Feb/2014:03:10:38 +0100] \"GET /hoteles-baratos/ofertas-hotel-Kensington-Townhouse-London-en-Kensington-54356b-destinos.html HTTP/1.1\" 404 3100 \"-\" \"Mozilla/5.0 (compatible; Googlebot/2.1; +http://www.google.com/bot.html)\" VLOG=-</td>\n      <td>www.akumenius.com</td>\n      <td>66.249.76.216</td>\n      <td>23/Feb/2014</td>\n      <td>03:10:38</td>\n      <td>+0100</td>\n      <td>404 3100</td>\n      <td>-</td>\n      <td>GET</td>\n      <td>/hoteles-baratos/ofertas-hotel-Kensington-Townhouse-London-en-Kensington-54356b-destinos.html</td>\n      <td>HTTP/1.1</td>\n      <td>Mozilla/5.0 (compatible; Googlebot/2.1; +http://www.google.com/bot.html)</td>\n    </tr>\n  </tbody>\n</table>\n</div>"
                    },
                    "metadata": {},
                    "execution_count": 12
                }
            ],
            "metadata": {}
        },
        {
            "cell_type": "code",
            "execution_count": 13,
            "source": [
                "# Finally, the \"Single Data Column\" is eliminated.\r\n",
                "data_table = data_table.drop(\"Single_Data_Column\", axis = 1)\r\n",
                "# Display of data from row 15 to row 25\r\n",
                "data_table.loc[15:25,:]"
            ],
            "outputs": [
                {
                    "output_type": "execute_result",
                    "data": {
                        "text/plain": [
                            "             Web_Site     IP_Address         Date      Time Time_Zone  \\\n",
                            "15          localhost      127.0.0.1  23/Feb/2014  03:10:31     +0100   \n",
                            "16          localhost      127.0.0.1  23/Feb/2014  03:10:31     +0100   \n",
                            "17          localhost      127.0.0.1  23/Feb/2014  03:10:31     +0100   \n",
                            "18          localhost      127.0.0.1  23/Feb/2014  03:10:31     +0100   \n",
                            "19          localhost      127.0.0.1  23/Feb/2014  03:10:31     +0100   \n",
                            "20          localhost      127.0.0.1  23/Feb/2014  03:10:31     +0100   \n",
                            "21          localhost      127.0.0.1  23/Feb/2014  03:10:31     +0100   \n",
                            "22  www.akumenius.com  66.249.76.216  23/Feb/2014  03:10:31     +0100   \n",
                            "23  www.akumenius.com  66.249.76.216  23/Feb/2014  03:10:33     +0100   \n",
                            "24  www.akumenius.com  66.249.76.216  23/Feb/2014  03:10:35     +0100   \n",
                            "25  www.akumenius.com  66.249.76.216  23/Feb/2014  03:10:38     +0100   \n",
                            "\n",
                            "       Numbers Page     Type  \\\n",
                            "15      200 -     -  OPTIONS   \n",
                            "16      200 -     -  OPTIONS   \n",
                            "17      200 -     -  OPTIONS   \n",
                            "18      200 -     -  OPTIONS   \n",
                            "19      200 -     -  OPTIONS   \n",
                            "20      200 -     -  OPTIONS   \n",
                            "21      200 -     -  OPTIONS   \n",
                            "22   404 3100     -      GET   \n",
                            "23   404 3100     -      GET   \n",
                            "24   404 3100     -      GET   \n",
                            "25   404 3100     -      GET   \n",
                            "\n",
                            "                                                                                          Request  \\\n",
                            "15                                                                                              *   \n",
                            "16                                                                                              *   \n",
                            "17                                                                                              *   \n",
                            "18                                                                                              *   \n",
                            "19                                                                                              *   \n",
                            "20                                                                                              *   \n",
                            "21                                                                                              *   \n",
                            "22           /hoteles-baratos/ofertas-hotel-Club-&-Hotel-Letoonia--en-Fethiye-8460b-destinos.html   \n",
                            "23                /hoteles-baratos/ofertas-hotel-Metropolis-Hotel-en-Kaunas-210244b-destinos.html   \n",
                            "24      /hoteles-baratos/ofertas-hotel-Faena-Hotel-Buenos-Aires-en-Downtown-129723b-destinos.html   \n",
                            "25  /hoteles-baratos/ofertas-hotel-Kensington-Townhouse-London-en-Kensington-54356b-destinos.html   \n",
                            "\n",
                            "    Protocol  \\\n",
                            "15  HTTP/1.0   \n",
                            "16  HTTP/1.0   \n",
                            "17  HTTP/1.0   \n",
                            "18  HTTP/1.0   \n",
                            "19  HTTP/1.0   \n",
                            "20  HTTP/1.0   \n",
                            "21  HTTP/1.0   \n",
                            "22  HTTP/1.1   \n",
                            "23  HTTP/1.1   \n",
                            "24  HTTP/1.1   \n",
                            "25  HTTP/1.1   \n",
                            "\n",
                            "                                                                 Web_browser  \n",
                            "15                                        Apache (internal dummy connection)  \n",
                            "16                                        Apache (internal dummy connection)  \n",
                            "17                                        Apache (internal dummy connection)  \n",
                            "18                                        Apache (internal dummy connection)  \n",
                            "19                                        Apache (internal dummy connection)  \n",
                            "20                                        Apache (internal dummy connection)  \n",
                            "21                                        Apache (internal dummy connection)  \n",
                            "22  Mozilla/5.0 (compatible; Googlebot/2.1; +http://www.google.com/bot.html)  \n",
                            "23  Mozilla/5.0 (compatible; Googlebot/2.1; +http://www.google.com/bot.html)  \n",
                            "24  Mozilla/5.0 (compatible; Googlebot/2.1; +http://www.google.com/bot.html)  \n",
                            "25  Mozilla/5.0 (compatible; Googlebot/2.1; +http://www.google.com/bot.html)  "
                        ],
                        "text/html": "<div>\n<style scoped>\n    .dataframe tbody tr th:only-of-type {\n        vertical-align: middle;\n    }\n\n    .dataframe tbody tr th {\n        vertical-align: top;\n    }\n\n    .dataframe thead th {\n        text-align: right;\n    }\n</style>\n<table border=\"1\" class=\"dataframe\">\n  <thead>\n    <tr style=\"text-align: right;\">\n      <th></th>\n      <th>Web_Site</th>\n      <th>IP_Address</th>\n      <th>Date</th>\n      <th>Time</th>\n      <th>Time_Zone</th>\n      <th>Numbers</th>\n      <th>Page</th>\n      <th>Type</th>\n      <th>Request</th>\n      <th>Protocol</th>\n      <th>Web_browser</th>\n    </tr>\n  </thead>\n  <tbody>\n    <tr>\n      <th>15</th>\n      <td>localhost</td>\n      <td>127.0.0.1</td>\n      <td>23/Feb/2014</td>\n      <td>03:10:31</td>\n      <td>+0100</td>\n      <td>200 -</td>\n      <td>-</td>\n      <td>OPTIONS</td>\n      <td>*</td>\n      <td>HTTP/1.0</td>\n      <td>Apache (internal dummy connection)</td>\n    </tr>\n    <tr>\n      <th>16</th>\n      <td>localhost</td>\n      <td>127.0.0.1</td>\n      <td>23/Feb/2014</td>\n      <td>03:10:31</td>\n      <td>+0100</td>\n      <td>200 -</td>\n      <td>-</td>\n      <td>OPTIONS</td>\n      <td>*</td>\n      <td>HTTP/1.0</td>\n      <td>Apache (internal dummy connection)</td>\n    </tr>\n    <tr>\n      <th>17</th>\n      <td>localhost</td>\n      <td>127.0.0.1</td>\n      <td>23/Feb/2014</td>\n      <td>03:10:31</td>\n      <td>+0100</td>\n      <td>200 -</td>\n      <td>-</td>\n      <td>OPTIONS</td>\n      <td>*</td>\n      <td>HTTP/1.0</td>\n      <td>Apache (internal dummy connection)</td>\n    </tr>\n    <tr>\n      <th>18</th>\n      <td>localhost</td>\n      <td>127.0.0.1</td>\n      <td>23/Feb/2014</td>\n      <td>03:10:31</td>\n      <td>+0100</td>\n      <td>200 -</td>\n      <td>-</td>\n      <td>OPTIONS</td>\n      <td>*</td>\n      <td>HTTP/1.0</td>\n      <td>Apache (internal dummy connection)</td>\n    </tr>\n    <tr>\n      <th>19</th>\n      <td>localhost</td>\n      <td>127.0.0.1</td>\n      <td>23/Feb/2014</td>\n      <td>03:10:31</td>\n      <td>+0100</td>\n      <td>200 -</td>\n      <td>-</td>\n      <td>OPTIONS</td>\n      <td>*</td>\n      <td>HTTP/1.0</td>\n      <td>Apache (internal dummy connection)</td>\n    </tr>\n    <tr>\n      <th>20</th>\n      <td>localhost</td>\n      <td>127.0.0.1</td>\n      <td>23/Feb/2014</td>\n      <td>03:10:31</td>\n      <td>+0100</td>\n      <td>200 -</td>\n      <td>-</td>\n      <td>OPTIONS</td>\n      <td>*</td>\n      <td>HTTP/1.0</td>\n      <td>Apache (internal dummy connection)</td>\n    </tr>\n    <tr>\n      <th>21</th>\n      <td>localhost</td>\n      <td>127.0.0.1</td>\n      <td>23/Feb/2014</td>\n      <td>03:10:31</td>\n      <td>+0100</td>\n      <td>200 -</td>\n      <td>-</td>\n      <td>OPTIONS</td>\n      <td>*</td>\n      <td>HTTP/1.0</td>\n      <td>Apache (internal dummy connection)</td>\n    </tr>\n    <tr>\n      <th>22</th>\n      <td>www.akumenius.com</td>\n      <td>66.249.76.216</td>\n      <td>23/Feb/2014</td>\n      <td>03:10:31</td>\n      <td>+0100</td>\n      <td>404 3100</td>\n      <td>-</td>\n      <td>GET</td>\n      <td>/hoteles-baratos/ofertas-hotel-Club-&amp;-Hotel-Letoonia--en-Fethiye-8460b-destinos.html</td>\n      <td>HTTP/1.1</td>\n      <td>Mozilla/5.0 (compatible; Googlebot/2.1; +http://www.google.com/bot.html)</td>\n    </tr>\n    <tr>\n      <th>23</th>\n      <td>www.akumenius.com</td>\n      <td>66.249.76.216</td>\n      <td>23/Feb/2014</td>\n      <td>03:10:33</td>\n      <td>+0100</td>\n      <td>404 3100</td>\n      <td>-</td>\n      <td>GET</td>\n      <td>/hoteles-baratos/ofertas-hotel-Metropolis-Hotel-en-Kaunas-210244b-destinos.html</td>\n      <td>HTTP/1.1</td>\n      <td>Mozilla/5.0 (compatible; Googlebot/2.1; +http://www.google.com/bot.html)</td>\n    </tr>\n    <tr>\n      <th>24</th>\n      <td>www.akumenius.com</td>\n      <td>66.249.76.216</td>\n      <td>23/Feb/2014</td>\n      <td>03:10:35</td>\n      <td>+0100</td>\n      <td>404 3100</td>\n      <td>-</td>\n      <td>GET</td>\n      <td>/hoteles-baratos/ofertas-hotel-Faena-Hotel-Buenos-Aires-en-Downtown-129723b-destinos.html</td>\n      <td>HTTP/1.1</td>\n      <td>Mozilla/5.0 (compatible; Googlebot/2.1; +http://www.google.com/bot.html)</td>\n    </tr>\n    <tr>\n      <th>25</th>\n      <td>www.akumenius.com</td>\n      <td>66.249.76.216</td>\n      <td>23/Feb/2014</td>\n      <td>03:10:38</td>\n      <td>+0100</td>\n      <td>404 3100</td>\n      <td>-</td>\n      <td>GET</td>\n      <td>/hoteles-baratos/ofertas-hotel-Kensington-Townhouse-London-en-Kensington-54356b-destinos.html</td>\n      <td>HTTP/1.1</td>\n      <td>Mozilla/5.0 (compatible; Googlebot/2.1; +http://www.google.com/bot.html)</td>\n    </tr>\n  </tbody>\n</table>\n</div>"
                    },
                    "metadata": {},
                    "execution_count": 13
                }
            ],
            "metadata": {}
        },
        {
            "cell_type": "markdown",
            "source": [
                "- Exercici 3\r\n",
                "\r\n",
                "Geolocalitza les IP's."
            ],
            "metadata": {}
        },
        {
            "cell_type": "code",
            "execution_count": 14,
            "source": [
                "# Ens quedarem amb una llista de només les diferentes IP's visitades ja que te un cost molt elevat de\r\n",
                "# temps el fet de cridar per a cada registre de 'taula' una petició de ip2geotools\r\n",
                "# Creació del dataframe de IP's, 'ip', i la seva quantitat de 'visites'\r\n",
                "response_ip = data_table[\"IP_Address\"].value_counts().rename_axis('IP_Address').reset_index(name = \"No_Entries\")\r\n",
                "# Dataframe 'ip_visites' amb només llista d'ip's amb més de 1000 visites pel que dèiem d'elevat cost en temps de processat\r\n",
                "response_ip = response_ip[(response_ip[\"No_Entries\"] > 1000) & (response_ip[\"IP_Address\"] != '127.0.0.1')]\r\n",
                "display(response_ip.head(response_ip.shape[0]))\r\n",
                "#display(ip_visites[ip_visites[\"visites\"]>1000].head(ip_visites.shape[0]))"
            ],
            "outputs": [
                {
                    "output_type": "display_data",
                    "data": {
                        "text/plain": "         IP_Address  No_Entries\n0     66.249.76.216       46382\n1     80.28.221.123       14725\n3    217.125.71.222        5201\n4     66.249.75.148        3558\n5   162.243.192.191        2927\n6    62.117.197.230        2567\n7    89.128.176.162        1093\n8   198.143.133.154        1045\n9    176.31.255.177        1044\n10     80.58.250.94        1043\n11    81.39.110.171        1030",
                        "text/html": "<div>\n<style scoped>\n    .dataframe tbody tr th:only-of-type {\n        vertical-align: middle;\n    }\n\n    .dataframe tbody tr th {\n        vertical-align: top;\n    }\n\n    .dataframe thead th {\n        text-align: right;\n    }\n</style>\n<table border=\"1\" class=\"dataframe\">\n  <thead>\n    <tr style=\"text-align: right;\">\n      <th></th>\n      <th>IP_Address</th>\n      <th>No_Entries</th>\n    </tr>\n  </thead>\n  <tbody>\n    <tr>\n      <th>0</th>\n      <td>66.249.76.216</td>\n      <td>46382</td>\n    </tr>\n    <tr>\n      <th>1</th>\n      <td>80.28.221.123</td>\n      <td>14725</td>\n    </tr>\n    <tr>\n      <th>3</th>\n      <td>217.125.71.222</td>\n      <td>5201</td>\n    </tr>\n    <tr>\n      <th>4</th>\n      <td>66.249.75.148</td>\n      <td>3558</td>\n    </tr>\n    <tr>\n      <th>5</th>\n      <td>162.243.192.191</td>\n      <td>2927</td>\n    </tr>\n    <tr>\n      <th>6</th>\n      <td>62.117.197.230</td>\n      <td>2567</td>\n    </tr>\n    <tr>\n      <th>7</th>\n      <td>89.128.176.162</td>\n      <td>1093</td>\n    </tr>\n    <tr>\n      <th>8</th>\n      <td>198.143.133.154</td>\n      <td>1045</td>\n    </tr>\n    <tr>\n      <th>9</th>\n      <td>176.31.255.177</td>\n      <td>1044</td>\n    </tr>\n    <tr>\n      <th>10</th>\n      <td>80.58.250.94</td>\n      <td>1043</td>\n    </tr>\n    <tr>\n      <th>11</th>\n      <td>81.39.110.171</td>\n      <td>1030</td>\n    </tr>\n  </tbody>\n</table>\n</div>"
                    },
                    "metadata": {}
                }
            ],
            "metadata": {}
        },
        {
            "cell_type": "markdown",
            "source": [
                "# ip2geotools\r\n",
                "\r\n",
                "Description :\r\n",
                "\r\n",
                "**ip2geotools** is a simple tool for getting geolocation information on given IP address from various geolocation databases. This package provides an API for several geolocation databases.\r\n",
                "\r\n",
                "## Models\r\n",
                "\r\n",
                "This module contains models for the data returned by geolocation databases and these models are also used for comparison of given and provided data.\r\n",
                "\r\n",
                "`ip2geotools.models.IpLocation`\r\n",
                "\r\n",
                "Model for storing location of given IP address.\r\n",
                "\r\n",
                "## Model for storing location of given IP address.\r\n",
                "\r\n",
                "Attributes:\r\n",
                "\r\n",
                "* ip_address: IP address\r\n",
                "* city: city where IP address is located\r\n",
                "* region: region where IP address is located\r\n",
                "* country: country where IP address is located (two letters country code)\r\n",
                "* latitude: latitude where IP address is located\r\n",
                "* longitude: longitude where IP address is located\r\n",
                "\r\n",
                "## Methods:\r\n",
                "\r\n",
                "* to_json: returns model data in JSON format\r\n",
                "* to_xml: returns model data in XML format (root element: ip_location)\r\n",
                "* to_csv: returns model data in CSV format separated by given delimiter\r\n",
                "* __str__: internal string representation of model, every single information on new line"
            ],
            "metadata": {}
        },
        {
            "cell_type": "code",
            "execution_count": 15,
            "source": [
                "# Ús de la llibreria ip2geotools per tal de geolocalitzar les IP's\r\n",
                "from ip2geotools.databases.noncommercial import DbIpCity\r\n",
                "# Creem una serie de funcions, 'ip_latitut', 'ip_longitut', etc... per tal d'obtenir coordenades i propietats\r\n",
                "# que ens ofererix aquesta llibreria\r\n",
                "\r\n",
                "def address_IP(ip):\r\n",
                "    try:\r\n",
                "        response_ip = DbIpCity.get(ip, api_key = 'free')\r\n",
                "        ip = response_ip.ip_address\r\n",
                "        return ip\r\n",
                "    except:\r\n",
                "        return np.nan\r\n",
                "def latitude_IP(ip):\r\n",
                "    try:\r\n",
                "        response_ip = DbIpCity.get(ip, api_key = 'free')\r\n",
                "        latitude = response_ip.latitude\r\n",
                "        return latitude\r\n",
                "    except:\r\n",
                "        return np.nan\r\n",
                "def longitude_IP(ip):\r\n",
                "    try:\r\n",
                "        response_ip = DbIpCity.get(ip, api_key = 'free')\r\n",
                "        longitude = response_ip.longitude\r\n",
                "        return longitude\r\n",
                "    except:\r\n",
                "        return np.nan\r\n",
                "def city_IP(ip):\r\n",
                "    try:\r\n",
                "        response_ip = DbIpCity.get(ip, api_key = 'free')\r\n",
                "        city = response_ip.city\r\n",
                "        return city\r\n",
                "    except:\r\n",
                "        return np.nan\r\n",
                "def region_IP(ip):\r\n",
                "    try:\r\n",
                "        response_ip = DbIpCity.get(ip, api_key = 'free')\r\n",
                "        region = response_ip.region\r\n",
                "        return region\r\n",
                "    except:\r\n",
                "        return np.nan\r\n",
                "def country_IP(ip):\r\n",
                "    try:\r\n",
                "        response_ip = DbIpCity.get(ip, api_key = 'free')\r\n",
                "        country = response_ip.country\r\n",
                "        return country\r\n",
                "    except:\r\n",
                "        return np.nan"
            ],
            "outputs": [],
            "metadata": {}
        },
        {
            "cell_type": "code",
            "execution_count": 16,
            "source": [
                "# Assignació de tota aquesta informació al dataframe 'ip_visites'\r\n",
                "response_ip[\"Latitude\"] = response_ip.loc[:,'IP_Address'].apply(lambda k: latitude_IP(k))\r\n",
                "response_ip[\"Longitude\"] = response_ip.loc[:,'IP_Address'].apply(lambda k: longitude_IP(k))\r\n",
                "response_ip[\"City\"] = response_ip.loc[:,'IP_Address'].apply(lambda k: city_IP(k))\r\n",
                "response_ip[\"Region\"] = response_ip.loc[:,'IP_Address'].apply(lambda k: region_IP(k))\r\n",
                "response_ip[\"Country\"] = response_ip.loc[:,'IP_Address'].apply(lambda k: country_IP(k))\r\n",
                "display(response_ip.head(response_ip.shape[0]))"
            ],
            "outputs": [
                {
                    "output_type": "display_data",
                    "data": {
                        "text/plain": "         IP_Address  No_Entries   Latitude   Longitude                City  \\\n0     66.249.76.216       46382  37.389389 -122.083210       Mountain View   \n1     80.28.221.123       14725  40.416705   -3.703582              Madrid   \n3    217.125.71.222        5201  40.416705   -3.703582              Madrid   \n4     66.249.75.148        3558  37.389389 -122.083210       Mountain View   \n5   162.243.192.191        2927  40.712728  -74.006015            New York   \n6    62.117.197.230        2567  37.992379   -1.130543              Murcia   \n7    89.128.176.162        1093  40.434653   -3.814834  Pozuelo de Alarcón   \n8   198.143.133.154        1045  42.021578  -88.183000      Chicago (Loop)   \n9    176.31.255.177        1044  50.691589    3.174173             Roubaix   \n10     80.58.250.94        1043  40.416705   -3.703582              Madrid   \n11    81.39.110.171        1030  40.416705   -3.703582              Madrid   \n\n             Region Country  \n0        California      US  \n1            Madrid      ES  \n3            Madrid      ES  \n4        California      US  \n5          New York      US  \n6            Murcia      ES  \n7            Madrid      ES  \n8          Illinois      US  \n9   Hauts-de-France      FR  \n10           Madrid      ES  \n11           Madrid      ES  ",
                        "text/html": "<div>\n<style scoped>\n    .dataframe tbody tr th:only-of-type {\n        vertical-align: middle;\n    }\n\n    .dataframe tbody tr th {\n        vertical-align: top;\n    }\n\n    .dataframe thead th {\n        text-align: right;\n    }\n</style>\n<table border=\"1\" class=\"dataframe\">\n  <thead>\n    <tr style=\"text-align: right;\">\n      <th></th>\n      <th>IP_Address</th>\n      <th>No_Entries</th>\n      <th>Latitude</th>\n      <th>Longitude</th>\n      <th>City</th>\n      <th>Region</th>\n      <th>Country</th>\n    </tr>\n  </thead>\n  <tbody>\n    <tr>\n      <th>0</th>\n      <td>66.249.76.216</td>\n      <td>46382</td>\n      <td>37.389389</td>\n      <td>-122.083210</td>\n      <td>Mountain View</td>\n      <td>California</td>\n      <td>US</td>\n    </tr>\n    <tr>\n      <th>1</th>\n      <td>80.28.221.123</td>\n      <td>14725</td>\n      <td>40.416705</td>\n      <td>-3.703582</td>\n      <td>Madrid</td>\n      <td>Madrid</td>\n      <td>ES</td>\n    </tr>\n    <tr>\n      <th>3</th>\n      <td>217.125.71.222</td>\n      <td>5201</td>\n      <td>40.416705</td>\n      <td>-3.703582</td>\n      <td>Madrid</td>\n      <td>Madrid</td>\n      <td>ES</td>\n    </tr>\n    <tr>\n      <th>4</th>\n      <td>66.249.75.148</td>\n      <td>3558</td>\n      <td>37.389389</td>\n      <td>-122.083210</td>\n      <td>Mountain View</td>\n      <td>California</td>\n      <td>US</td>\n    </tr>\n    <tr>\n      <th>5</th>\n      <td>162.243.192.191</td>\n      <td>2927</td>\n      <td>40.712728</td>\n      <td>-74.006015</td>\n      <td>New York</td>\n      <td>New York</td>\n      <td>US</td>\n    </tr>\n    <tr>\n      <th>6</th>\n      <td>62.117.197.230</td>\n      <td>2567</td>\n      <td>37.992379</td>\n      <td>-1.130543</td>\n      <td>Murcia</td>\n      <td>Murcia</td>\n      <td>ES</td>\n    </tr>\n    <tr>\n      <th>7</th>\n      <td>89.128.176.162</td>\n      <td>1093</td>\n      <td>40.434653</td>\n      <td>-3.814834</td>\n      <td>Pozuelo de Alarcón</td>\n      <td>Madrid</td>\n      <td>ES</td>\n    </tr>\n    <tr>\n      <th>8</th>\n      <td>198.143.133.154</td>\n      <td>1045</td>\n      <td>42.021578</td>\n      <td>-88.183000</td>\n      <td>Chicago (Loop)</td>\n      <td>Illinois</td>\n      <td>US</td>\n    </tr>\n    <tr>\n      <th>9</th>\n      <td>176.31.255.177</td>\n      <td>1044</td>\n      <td>50.691589</td>\n      <td>3.174173</td>\n      <td>Roubaix</td>\n      <td>Hauts-de-France</td>\n      <td>FR</td>\n    </tr>\n    <tr>\n      <th>10</th>\n      <td>80.58.250.94</td>\n      <td>1043</td>\n      <td>40.416705</td>\n      <td>-3.703582</td>\n      <td>Madrid</td>\n      <td>Madrid</td>\n      <td>ES</td>\n    </tr>\n    <tr>\n      <th>11</th>\n      <td>81.39.110.171</td>\n      <td>1030</td>\n      <td>40.416705</td>\n      <td>-3.703582</td>\n      <td>Madrid</td>\n      <td>Madrid</td>\n      <td>ES</td>\n    </tr>\n  </tbody>\n</table>\n</div>"
                    },
                    "metadata": {}
                }
            ],
            "metadata": {}
        },
        {
            "cell_type": "markdown",
            "source": [
                "**Nivell 3**\r\n",
                "\r\n",
                "- Exercici 3\r\n",
                "\r\n",
                "Mostra'm la teva creativitat, Sorprèn-me fes un pas més enllà amb l'anàlisi anterior."
            ],
            "metadata": {}
        },
        {
            "cell_type": "code",
            "execution_count": 17,
            "source": [
                "# Per tal de mapificar les IP's visitades usarem la llibrería google earth engine\r\n",
                "import geemap # A Python package for interactive mapping with Google Earth Engine, ipyleaflet, and folium.\r\n",
                "import json\r\n",
                "import os\r\n",
                "import requests\r\n",
                "from geemap import geojson_to_ee, ee_to_geojson\r\n",
                "from ipyleaflet import GeoJSON, Marker, MarkerCluster"
            ],
            "outputs": [],
            "metadata": {}
        },
        {
            "cell_type": "code",
            "execution_count": 18,
            "source": [
                "# Resulta que la llibreria necesita de les dades en format GeoJson\r\n",
                "# Per tant creem una funció, 'df_a_geojson', per tal de convertir el dataframe a un geojson\r\n",
                "def df2geojson(df, properties, lat = 'Latitude', long = 'Longitude'):\r\n",
                "\r\n",
                "    # df         : nom del dataframe a convertir a geojson\r\n",
                "    # properties : llista de columnes en el dataframe a incloure en el geojson com a propietats\r\n",
                "    # lat        : columna del dataframe amb l'info de latitut\r\n",
                "    # long       : columna del dataframe amb l'info de longitut\r\n",
                "\r\n",
                "    # creació d'un diccionari que contingui la informació i format del nostre geojson\r\n",
                "    geojson = {'type':'FeatureCollection', 'features':[]}\r\n",
                "    # bucle que converteix cada registre del dataframe al format geojson\r\n",
                "    # amb df.iterrows convertim el dataframe in un objecte Serie de pandas\r\n",
                "    for k, fila in df.iterrows():\r\n",
                "        element = {'type':'Feature',\r\n",
                "                   'properties':{},\r\n",
                "                   'geometry':{'type':'Point',\r\n",
                "                               'coordinates':[]}}\r\n",
                "        # omplir coordenades\r\n",
                "        element['geometry']['coordinates']=[float(fila[long]),float(fila[lat])]\r\n",
                "        # be aware that the dataframe is a pd.series\r\n",
                "        # conversió de cada fila a una Serie de pandas\r\n",
                "        propietats = pd.Series(fila)\r\n",
                "        # per a cada columna, obtenir el valor i afegir-lo com a nou element de propietats\r\n",
                "        for propietat in properties:\r\n",
                "            # bucle en cada item per tal de convertir-lo a un nou element i en format text\r\n",
                "            if type(propietats[propietat])==float:\r\n",
                "                propietats[propietat] = str(int(propietats[propietat]))\r\n",
                "            # creació del format json on hi inlcoem les propietats\r\n",
                "            element['properties'][propietat] = propietats[propietat]\r\n",
                "        # afegir l'element a la llista de elementes del diccionari\r\n",
                "        geojson['features'].append(element)\r\n",
                "    return geojson"
            ],
            "outputs": [],
            "metadata": {}
        },
        {
            "cell_type": "code",
            "execution_count": 19,
            "source": [
                "# Creació del GeoJson mitjançant la funció 'df_a_geojson'\r\n",
                "geojson_response_ip = df2geojson(response_ip,['IP_Address','No_Entries','City','Region','Country','No_Entries'], \\\r\n",
                "    lat = 'Latitude', long = 'Longitude')\r\n",
                "display(geojson_response_ip)"
            ],
            "outputs": [
                {
                    "output_type": "display_data",
                    "data": {
                        "text/plain": "{'type': 'FeatureCollection',\n 'features': [{'type': 'Feature',\n   'properties': {'IP_Address': '66.249.76.216',\n    'No_Entries': 46382,\n    'City': 'Mountain View',\n    'Region': 'California',\n    'Country': 'US'},\n   'geometry': {'type': 'Point', 'coordinates': [-122.0832101, 37.3893889]}},\n  {'type': 'Feature',\n   'properties': {'IP_Address': '80.28.221.123',\n    'No_Entries': 14725,\n    'City': 'Madrid',\n    'Region': 'Madrid',\n    'Country': 'ES'},\n   'geometry': {'type': 'Point', 'coordinates': [-3.7035825, 40.4167047]}},\n  {'type': 'Feature',\n   'properties': {'IP_Address': '217.125.71.222',\n    'No_Entries': 5201,\n    'City': 'Madrid',\n    'Region': 'Madrid',\n    'Country': 'ES'},\n   'geometry': {'type': 'Point', 'coordinates': [-3.7035825, 40.4167047]}},\n  {'type': 'Feature',\n   'properties': {'IP_Address': '66.249.75.148',\n    'No_Entries': 3558,\n    'City': 'Mountain View',\n    'Region': 'California',\n    'Country': 'US'},\n   'geometry': {'type': 'Point', 'coordinates': [-122.0832101, 37.3893889]}},\n  {'type': 'Feature',\n   'properties': {'IP_Address': '162.243.192.191',\n    'No_Entries': 2927,\n    'City': 'New York',\n    'Region': 'New York',\n    'Country': 'US'},\n   'geometry': {'type': 'Point', 'coordinates': [-74.0060152, 40.7127281]}},\n  {'type': 'Feature',\n   'properties': {'IP_Address': '62.117.197.230',\n    'No_Entries': 2567,\n    'City': 'Murcia',\n    'Region': 'Murcia',\n    'Country': 'ES'},\n   'geometry': {'type': 'Point', 'coordinates': [-1.1305431, 37.9923795]}},\n  {'type': 'Feature',\n   'properties': {'IP_Address': '89.128.176.162',\n    'No_Entries': 1093,\n    'City': 'Pozuelo de Alarcón',\n    'Region': 'Madrid',\n    'Country': 'ES'},\n   'geometry': {'type': 'Point', 'coordinates': [-3.814834, 40.4346528]}},\n  {'type': 'Feature',\n   'properties': {'IP_Address': '198.143.133.154',\n    'No_Entries': 1045,\n    'City': 'Chicago (Loop)',\n    'Region': 'Illinois',\n    'Country': 'US'},\n   'geometry': {'type': 'Point', 'coordinates': [-88.1829997, 42.0215779]}},\n  {'type': 'Feature',\n   'properties': {'IP_Address': '176.31.255.177',\n    'No_Entries': 1044,\n    'City': 'Roubaix',\n    'Region': 'Hauts-de-France',\n    'Country': 'FR'},\n   'geometry': {'type': 'Point', 'coordinates': [3.1741734, 50.6915893]}},\n  {'type': 'Feature',\n   'properties': {'IP_Address': '80.58.250.94',\n    'No_Entries': 1043,\n    'City': 'Madrid',\n    'Region': 'Madrid',\n    'Country': 'ES'},\n   'geometry': {'type': 'Point', 'coordinates': [-3.7035825, 40.4167047]}},\n  {'type': 'Feature',\n   'properties': {'IP_Address': '81.39.110.171',\n    'No_Entries': 1030,\n    'City': 'Madrid',\n    'Region': 'Madrid',\n    'Country': 'ES'},\n   'geometry': {'type': 'Point', 'coordinates': [-3.7035825, 40.4167047]}}]}"
                    },
                    "metadata": {}
                }
            ],
            "metadata": {}
        },
        {
            "cell_type": "code",
            "execution_count": 27,
            "source": [
                "# Creació de la capa de punts d'ip's visitades\r\n",
                "geolocalization_ip_points_layer = MarkerCluster(markers = [Marker(location = feature['geometry']['coordinates'][::-1] \\\n",
                "    for feature in geojson_response_ip['features']], name = 'Markers')')"
            ],
            "outputs": [],
            "metadata": {}
        },
        {
            "cell_type": "code",
            "execution_count": 28,
            "source": [
                "import ee\r\n",
                "ee.Initialize()\r\n",
                "reducer = ee.Reducer.mean()"
            ],
            "outputs": [],
            "metadata": {}
        },
        {
            "cell_type": "code",
            "execution_count": 29,
            "source": [
                "# Creem l'objecte mapa on, a posteriori, hi afegirem la geolocalització de les ip's\r\n",
                "# Amés centrarem el mapa i escalarem per tal de tenir un visió mundial\r\n",
                "world_map = geemap.Map(center=[40,-0], zoom=2)\r\n",
                "# Afegir la capa al 'mapa'\r\n",
                "world_map.add_layer(geolocalization_ip_points_layer)\r\n",
                "# Mostrar el mapa amb la geolocalització de les IP's\r\n",
                "world_map"
            ],
            "outputs": [
                {
                    "output_type": "display_data",
                    "data": {
                        "text/plain": "Map(center=[40, 0], controls=(WidgetControl(options=['position', 'transparent_bg'], widget=HBox(children=(Togg…",
                        "application/vnd.jupyter.widget-view+json": {
                            "version_major": 2,
                            "version_minor": 0,
                            "model_id": "b8c85b4f0ed0440ba1297ef4807ae72d"
                        }
                    },
                    "metadata": {}
                }
            ],
            "metadata": {}
        },
        {
            "cell_type": "code",
            "execution_count": null,
            "metadata": {},
            "outputs": [],
            "source": []
        }
    ],
    "metadata": {
        "orig_nbformat": 4,
        "language_info": {
            "name": "python",
            "version": "3.8.10",
            "mimetype": "text/x-python",
            "codemirror_mode": {
                "name": "ipython",
                "version": 3
            },
            "pygments_lexer": "ipython3",
            "nbconvert_exporter": "python",
            "file_extension": ".py"
        },
        "kernelspec": {
            "name": "python3",
            "display_name": "Python 3.8.10 64-bit ('myhpc': conda)"
        },
        "interpreter": {
            "hash": "9e2cdb4300706d64c3bb8ce1a3dbea36fdccde4f6e84f712979922e3f9215c9d"
        }
    },
    "nbformat": 4,
    "nbformat_minor": 2
}